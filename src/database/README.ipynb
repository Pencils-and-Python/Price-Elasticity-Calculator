{
 "cells": [
  {
   "metadata": {},
   "cell_type": "markdown",
   "source": [
    "# Convert Data to DuckDB Instructions\n",
    "\n",
    "1. Convert your CSV data to DuckDB using `python -m src.database.create_db`\n",
    "2. Query the database in your notebooks or scripts using the connection utility\n",
    "3. Explore the database with the CLI tool using commands like:\n",
    "    - `python -m src.database.db_cli --list-tables`\n",
    "    - `python -m src.database.db_cli --sample rossmann_sales --rows 10`\n",
    "    - `python -m src.database.db_cli --info rossmann_sales`\n",
    "\n",
    "This setup gives you a robust way to work with your data in DuckDB while maintaining compatibility with your existing code structure.\n"
   ],
   "id": "70e796f746c70f56"
  },
  {
   "cell_type": "code",
   "execution_count": null,
   "id": "initial_id",
   "metadata": {
    "collapsed": true
   },
   "outputs": [],
   "source": [
    ""
   ]
  }
 ],
 "metadata": {
  "kernelspec": {
   "display_name": "Python 3",
   "language": "python",
   "name": "python3"
  },
  "language_info": {
   "codemirror_mode": {
    "name": "ipython",
    "version": 2
   },
   "file_extension": ".py",
   "mimetype": "text/x-python",
   "name": "python",
   "nbconvert_exporter": "python",
   "pygments_lexer": "ipython2",
   "version": "2.7.6"
  }
 },
 "nbformat": 4,
 "nbformat_minor": 5
}
