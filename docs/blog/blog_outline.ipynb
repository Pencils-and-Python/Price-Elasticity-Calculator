{
 "cells": [
  {
   "metadata": {},
   "cell_type": "markdown",
   "source": "# Blog Outline",
   "id": "3345d93892f857cb"
  },
  {
   "metadata": {},
   "cell_type": "markdown",
   "source": [
    "## A. Introduction.<br>\n",
    "    1.  What is Elasticity.\n",
    "    2.  Why is Elasticity important to a business.\n",
    "    3.  What is the goal of this article.\n",
    "\n",
    "## B. Data Exploration<br>\n",
    "    1.  Initial observations.\n",
    "    2.  What does the initial histogram of sales tell us?\n",
    "        a.  Histogram is right skewed with large spike at or near zero.\n",
    "        b.  The.\n",
    "    3.  What."
   ],
   "id": "d6ac0ce3a351ea04"
  },
  {
   "metadata": {},
   "cell_type": "code",
   "outputs": [],
   "execution_count": null,
   "source": "",
   "id": "35ca6ce19b4644e9"
  }
 ],
 "metadata": {
  "kernelspec": {
   "display_name": "Python 3",
   "language": "python",
   "name": "python3"
  },
  "language_info": {
   "codemirror_mode": {
    "name": "ipython",
    "version": 2
   },
   "file_extension": ".py",
   "mimetype": "text/x-python",
   "name": "python",
   "nbconvert_exporter": "python",
   "pygments_lexer": "ipython2",
   "version": "2.7.6"
  }
 },
 "nbformat": 4,
 "nbformat_minor": 5
}
