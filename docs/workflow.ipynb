{
 "cells": [
  {
   "metadata": {},
   "cell_type": "markdown",
   "source": [
    "RAW CSVs\n",
    "  ↓\n",
    "pandas: Load → Clean → Enrich\n",
    "  ↓\n",
    "DuckDB (register temp tables)\n",
    "  ↓\n",
    "Run SQL queries to test and transform\n",
    "  ↓\n",
    "🪄 Materialize clean data to DuckDB for long-term use\n"
   ],
   "id": "3a78178339784c5"
  },
  {
   "metadata": {},
   "cell_type": "markdown",
   "source": [
    "# Workflow Order\n",
    "1. Ingest raw CSVs into pandas\n",
    "2. Register them with DuckDB (optional but handy for SQL analysis)\n",
    "3. Run EDA in a notebook (plots, .info(), .describe(), missingness, value counts)\n",
    "4. Identify what needs cleaning (bad types, missing values, encoding problems)\n",
    "5. Write `clean_data.py` to apply those cleanups\n",
    "6. Store cleaned data into DuckDB\n",
    "7. Begin modeling / analytics / visualization\n"
   ],
   "id": "78d9ed196c3d2583"
  },
  {
   "metadata": {},
   "cell_type": "code",
   "outputs": [],
   "execution_count": null,
   "source": "",
   "id": "7afae3fff68898ed"
  }
 ],
 "metadata": {
  "kernelspec": {
   "display_name": "Python 3",
   "language": "python",
   "name": "python3"
  },
  "language_info": {
   "codemirror_mode": {
    "name": "ipython",
    "version": 2
   },
   "file_extension": ".py",
   "mimetype": "text/x-python",
   "name": "python",
   "nbconvert_exporter": "python",
   "pygments_lexer": "ipython2",
   "version": "2.7.6"
  }
 },
 "nbformat": 4,
 "nbformat_minor": 5
}
