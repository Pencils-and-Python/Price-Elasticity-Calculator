{
 "cells": [
  {
   "metadata": {},
   "cell_type": "markdown",
   "source": [
    "# Project Structure\n",
    "\n",
    "my-elasticity-app/\n",
    "│\n",
    "├── data/                     # Store datasets here\n",
    "│   ├── raw/                  # Original unmodified data\n",
    "│   │   ├── store.csv         # store data\n",
    "│   │   ├── test.csv          # test data\n",
    "│   │   ├── train.csv         # train data\n",
    "│   ├── processed/            # Cleaned/engineered datasets\n",
    "│   │   ├── elasticity.duckdb # duckDB database file\n",
    "│   ├── external/             # Any externally sourced data\n",
    "│   │   ├── rossman-store-sales/        # original files\n",
    "│   │   │   ├── sample_submission.csv   # original sample submission example\n",
    "│   │   ├── zip_files         # original zip files\n",
    "│\n",
    "├── docs/                # directory to store project documentation\n",
    "│   ├── blog/            # Markdown blog drafts, assets, references\n",
    "│   │   ├── blog_post.md   # draft of blog post\n",
    "│   ├── problem_statement.ipynb       # identifies goal of project\n",
    "│   ├── project_summary.ipynb         # documents project summary, work progress, next steps and challenges\n",
    "│   ├── workflow.ipynb        # identifies high level roadmap of project\n",
    "├── notebooks/                # notebooks for data exploration/blog prep\n",
    "│   ├── 01_data_exploration.ipynb       # summary / missing value analysis\n",
    "│   ├── 02_preprocessing_merge.ipynb    # clean, format, and merge data\n",
    "│   ├── 03_elasticity_analysis.ipynb    # calc, compare, visualize, & annotate\n",
    "│   ├── 04_streamlit_prototype.ipynb    # Build and test data input/output logic for Streamlit\n",
    "│   └── 99_dev_scratchpad.ipynb         # sandbox or dev diary\n",
    "│\n",
    "│\n",
    "├── src/                        # Core Python code\n",
    "│   ├── data/                   # Original unmodified data\n",
    "│   │   ├── __init__.py         # module initialization\n",
    "│   │   ├── load_data.py        # load data from db\n",
    "│   │   ├── register.py         # registering data to db\n",
    "│   ├── database/               # database logic\n",
    "│   │   ├── __init__.py         # module initialization\n",
    "│   │   ├── connection.py       # connect to db\n",
    "│   ├── elasticity_calc.py   # Elasticity and percent change logic\n",
    "│   └── utils.py             # General-purpose helper functions\n",
    "│\n",
    "├── app/                     # Streamlit or Flask app if applicable\n",
    "│   └── streamlit_app.py\n",
    "│\n",
    "├── tests/                   # Unit tests for your functions\n",
    "│   └── test_elasticity.py\n",
    "│\n",
    "├── main.py                  # main entry point\n",
    "├── .gitignore               # Ignore files like venv, __pycache__, etc.\n",
    "├── README.md                # Project overview and usage instructions\n",
    "└── environment.yml          # Conda and pip environment requirements\n"
   ],
   "id": "6e8405f3401df7e9"
  },
  {
   "metadata": {},
   "cell_type": "code",
   "outputs": [],
   "execution_count": null,
   "source": "",
   "id": "7788a6a58dbf7560"
  }
 ],
 "metadata": {
  "kernelspec": {
   "display_name": "Python 3",
   "language": "python",
   "name": "python3"
  },
  "language_info": {
   "codemirror_mode": {
    "name": "ipython",
    "version": 2
   },
   "file_extension": ".py",
   "mimetype": "text/x-python",
   "name": "python",
   "nbconvert_exporter": "python",
   "pygments_lexer": "ipython2",
   "version": "2.7.6"
  }
 },
 "nbformat": 4,
 "nbformat_minor": 5
}
