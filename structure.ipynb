{
 "cells": [
  {
   "metadata": {},
   "cell_type": "markdown",
   "source": [
    "# Project Structure\n",
    "\n",
    "my-elasticity-app/\n",
    "│\n",
    "├── data/                     # Store datasets here\n",
    "│   ├── raw/                  # Original unmodified data\n",
    "│   ├── processed/            # Cleaned/engineered datasets\n",
    "│   └── external/             # Any externally sourced data\n",
    "│\n",
    "├── notebooks/               # Jupyter notebooks for exploration/blog prep\n",
    "│   └── 01_elasticity_demo.ipynb\n",
    "│\n",
    "├── src/                     # Core Python code\n",
    "│   ├── __init__.py\n",
    "│   ├── elasticity_calc.py   # Elasticity and percent change logic\n",
    "│   └── utils.py             # General-purpose helper functions\n",
    "│\n",
    "├── app/                     # Streamlit or Flask app if applicable\n",
    "│   └── streamlit_app.py\n",
    "│\n",
    "├── tests/                   # Unit tests for your functions\n",
    "│   └── test_elasticity.py\n",
    "│\n",
    "├── docs/                    # Markdown blog drafts, assets, references\n",
    "│   └── blog_post.md\n",
    "│\n",
    "├── .gitignore               # Ignore files like venv, __pycache__, etc.\n",
    "├── README.md                # Project overview and usage instructions\n",
    "├── requirements.txt         # pip dependencies\n",
    "└── environment.yml          # Conda environment (optional)\n"
   ],
   "id": "6e8405f3401df7e9"
  },
  {
   "metadata": {},
   "cell_type": "code",
   "outputs": [],
   "execution_count": null,
   "source": "",
   "id": "7788a6a58dbf7560"
  }
 ],
 "metadata": {
  "kernelspec": {
   "display_name": "Python 3",
   "language": "python",
   "name": "python3"
  },
  "language_info": {
   "codemirror_mode": {
    "name": "ipython",
    "version": 2
   },
   "file_extension": ".py",
   "mimetype": "text/x-python",
   "name": "python",
   "nbconvert_exporter": "python",
   "pygments_lexer": "ipython2",
   "version": "2.7.6"
  }
 },
 "nbformat": 4,
 "nbformat_minor": 5
}
