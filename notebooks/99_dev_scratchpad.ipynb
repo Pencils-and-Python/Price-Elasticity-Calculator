{
 "cells": [
  {
   "cell_type": "code",
   "id": "initial_id",
   "metadata": {
    "collapsed": true,
    "ExecuteTime": {
     "end_time": "2025-04-17T07:53:36.492150Z",
     "start_time": "2025-04-17T07:53:33.452532Z"
    }
   },
   "source": "import pandas as pd",
   "outputs": [],
   "execution_count": 1
  },
  {
   "metadata": {
    "ExecuteTime": {
     "end_time": "2025-04-17T08:00:15.830224Z",
     "start_time": "2025-04-17T08:00:14.719265Z"
    }
   },
   "cell_type": "code",
   "source": [
    "store = pd.read_csv('../data/raw/store.csv')\n",
    "print(f'store shape: ', store.shape)\n",
    "\n",
    "train = pd.read_csv('../data/raw/train.csv', low_memory=False)\n",
    "print(f'train shape: ', train.shape)\n"
   ],
   "id": "535ca8921c9dfe97",
   "outputs": [
    {
     "name": "stdout",
     "output_type": "stream",
     "text": [
      "store shape:  (1115, 10)\n",
      "train shape:  (1017209, 9)\n"
     ]
    }
   ],
   "execution_count": 4
  }
 ],
 "metadata": {
  "kernelspec": {
   "display_name": "Python 3",
   "language": "python",
   "name": "python3"
  },
  "language_info": {
   "codemirror_mode": {
    "name": "ipython",
    "version": 2
   },
   "file_extension": ".py",
   "mimetype": "text/x-python",
   "name": "python",
   "nbconvert_exporter": "python",
   "pygments_lexer": "ipython2",
   "version": "2.7.6"
  }
 },
 "nbformat": 4,
 "nbformat_minor": 5
}
