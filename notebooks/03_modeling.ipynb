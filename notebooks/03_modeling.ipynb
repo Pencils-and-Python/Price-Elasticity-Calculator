{
 "cells": [
  {
   "metadata": {},
   "cell_type": "markdown",
   "source": [
    "# 📈 Elasticity Project: Model Summary\n",
    "\n",
    "This model focuses on **Price Elasticity of Demand (PED)** and its effect on total revenue. It allows users to explore how changes in price influence quantity demanded and overall sales performance.\n",
    "\n",
    "## ✅ **Key Components:**\n",
    "\n",
    "1. **Price Elasticity of Demand (PED) Calculation**\n",
    "\n",
    "   The elasticity is calculated using the midpoint formula to provide stable and realistic elasticity estimates:\n",
    "\n",
    "   $$\n",
    "   E_d = \\frac{\\frac{Q_2 - Q_1}{(Q_2 + Q_1)/2}}{\\frac{P_2 - P_1}{(P_2 + P_1)/2}}\n",
    "   $$\n",
    "\n",
    "   Where:\n",
    "   - \\( Q_1 \\), \\( Q_2 \\) = Original and new quantity demanded.\n",
    "   - \\( P_1 \\), \\( P_2 \\) = Original and new price.\n",
    "\n",
    "2. **Elasticity Classification**\n",
    "\n",
    "   The model classifies elasticity as:\n",
    "   - **Elastic** if \\( E_d > 1 \\)\n",
    "   - **Inelastic** if \\( E_d < 1 \\)\n",
    "   - **Unitary Elastic** if \\( E_d = 1 \\)\n",
    "\n",
    "3. **Revenue Impact Calculation**\n",
    "\n",
    "   We calculate **Total Revenue (TR)** before and after the price change:\n",
    "\n",
    "   $$\n",
    "   TR_1 = P_1 \\times Q_1\n",
    "   $$\n",
    "\n",
    "   $$\n",
    "   TR_2 = P_2 \\times Q_2\n",
    "   $$\n",
    "\n",
    "   The **change in revenue** is expressed as:\n",
    "\n",
    "   $$\n",
    "   \\Delta TR = TR_2 - TR_1\n",
    "   $$\n",
    "\n",
    "4. **Visualizations**\n",
    "\n",
    "   - **Demand Curve Plot:**\n",
    "     Shows the demand curve shifting based on user input.\n",
    "   - **Revenue Comparison:**\n",
    "     Displays side-by-side revenue before and after the price change.\n",
    "\n",
    "5. **User Inputs (via Sliders):**\n",
    "   - Initial price (\\( P_1 \\))\n",
    "   - Initial quantity (\\( Q_1 \\))\n",
    "   - % change in price (\\( \\%\\Delta P \\))\n",
    "\n",
    "6. **Output:**\n",
    "   - New price & quantity estimates.\n",
    "   - Elasticity classification (with interpretation).\n",
    "   - Revenue before & after (with impact summary).\n",
    "   - Interactive graph updates in real-time.\n"
   ],
   "id": "2fe5897a6d996bdf"
  },
  {
   "metadata": {
    "ExecuteTime": {
     "end_time": "2025-05-06T06:12:12.617138Z",
     "start_time": "2025-05-06T06:12:12.469772Z"
    }
   },
   "cell_type": "code",
   "source": [
    "import pandas as pd\n",
    "from sklearn.linear_model import LinearRegression\n",
    "from sklearn.model_selection import train_test_split"
   ],
   "id": "5b1ab86a2f59194d",
   "outputs": [],
   "execution_count": 4
  },
  {
   "cell_type": "code",
   "id": "initial_id",
   "metadata": {
    "collapsed": true,
    "ExecuteTime": {
     "end_time": "2025-05-06T06:12:13.156956Z",
     "start_time": "2025-05-06T06:12:12.648199Z"
    }
   },
   "source": "processed_data = pd.read_csv('../data/processed/processed_data.csv')",
   "outputs": [],
   "execution_count": 5
  },
  {
   "metadata": {},
   "cell_type": "markdown",
   "source": "## ✅ Check data is clean",
   "id": "67c138ebdd69bed9"
  },
  {
   "metadata": {
    "ExecuteTime": {
     "end_time": "2025-05-06T06:12:13.271284Z",
     "start_time": "2025-05-06T06:12:13.185850Z"
    }
   },
   "cell_type": "code",
   "source": "processed_data.info()",
   "id": "779496c7a7baea",
   "outputs": [
    {
     "name": "stdout",
     "output_type": "stream",
     "text": [
      "<class 'pandas.core.frame.DataFrame'>\n",
      "RangeIndex: 843482 entries, 0 to 843481\n",
      "Data columns (total 9 columns):\n",
      " #   Column         Non-Null Count   Dtype \n",
      "---  ------         --------------   ----- \n",
      " 0   Date           843482 non-null  object\n",
      " 1   Store          843482 non-null  int64 \n",
      " 2   DayOfWeek      843482 non-null  int64 \n",
      " 3   Sales          843482 non-null  int64 \n",
      " 4   Customers      843482 non-null  int64 \n",
      " 5   Open           843482 non-null  int64 \n",
      " 6   Promo          843482 non-null  int64 \n",
      " 7   StateHoliday   843482 non-null  int64 \n",
      " 8   SchoolHoliday  843482 non-null  int64 \n",
      "dtypes: int64(8), object(1)\n",
      "memory usage: 57.9+ MB\n"
     ]
    }
   ],
   "execution_count": 6
  },
  {
   "metadata": {
    "ExecuteTime": {
     "end_time": "2025-05-06T06:12:13.356505Z",
     "start_time": "2025-05-06T06:12:13.331829Z"
    }
   },
   "cell_type": "code",
   "source": "processed_data.head()\n",
   "id": "808d072d5c26bc5b",
   "outputs": [
    {
     "data": {
      "text/plain": [
       "         Date  Store  DayOfWeek  Sales  Customers  Open  Promo  StateHoliday  \\\n",
       "0  2015-07-31      1          5   5263        555     1      1             0   \n",
       "1  2015-07-31      2          5   6064        625     1      1             0   \n",
       "2  2015-07-31      3          5   8314        821     1      1             0   \n",
       "3  2015-07-31      4          5  13995       1498     1      1             0   \n",
       "4  2015-07-31      5          5   4822        559     1      1             0   \n",
       "\n",
       "   SchoolHoliday  \n",
       "0              1  \n",
       "1              1  \n",
       "2              1  \n",
       "3              1  \n",
       "4              1  "
      ],
      "text/html": [
       "<div>\n",
       "<style scoped>\n",
       "    .dataframe tbody tr th:only-of-type {\n",
       "        vertical-align: middle;\n",
       "    }\n",
       "\n",
       "    .dataframe tbody tr th {\n",
       "        vertical-align: top;\n",
       "    }\n",
       "\n",
       "    .dataframe thead th {\n",
       "        text-align: right;\n",
       "    }\n",
       "</style>\n",
       "<table border=\"1\" class=\"dataframe\">\n",
       "  <thead>\n",
       "    <tr style=\"text-align: right;\">\n",
       "      <th></th>\n",
       "      <th>Date</th>\n",
       "      <th>Store</th>\n",
       "      <th>DayOfWeek</th>\n",
       "      <th>Sales</th>\n",
       "      <th>Customers</th>\n",
       "      <th>Open</th>\n",
       "      <th>Promo</th>\n",
       "      <th>StateHoliday</th>\n",
       "      <th>SchoolHoliday</th>\n",
       "    </tr>\n",
       "  </thead>\n",
       "  <tbody>\n",
       "    <tr>\n",
       "      <th>0</th>\n",
       "      <td>2015-07-31</td>\n",
       "      <td>1</td>\n",
       "      <td>5</td>\n",
       "      <td>5263</td>\n",
       "      <td>555</td>\n",
       "      <td>1</td>\n",
       "      <td>1</td>\n",
       "      <td>0</td>\n",
       "      <td>1</td>\n",
       "    </tr>\n",
       "    <tr>\n",
       "      <th>1</th>\n",
       "      <td>2015-07-31</td>\n",
       "      <td>2</td>\n",
       "      <td>5</td>\n",
       "      <td>6064</td>\n",
       "      <td>625</td>\n",
       "      <td>1</td>\n",
       "      <td>1</td>\n",
       "      <td>0</td>\n",
       "      <td>1</td>\n",
       "    </tr>\n",
       "    <tr>\n",
       "      <th>2</th>\n",
       "      <td>2015-07-31</td>\n",
       "      <td>3</td>\n",
       "      <td>5</td>\n",
       "      <td>8314</td>\n",
       "      <td>821</td>\n",
       "      <td>1</td>\n",
       "      <td>1</td>\n",
       "      <td>0</td>\n",
       "      <td>1</td>\n",
       "    </tr>\n",
       "    <tr>\n",
       "      <th>3</th>\n",
       "      <td>2015-07-31</td>\n",
       "      <td>4</td>\n",
       "      <td>5</td>\n",
       "      <td>13995</td>\n",
       "      <td>1498</td>\n",
       "      <td>1</td>\n",
       "      <td>1</td>\n",
       "      <td>0</td>\n",
       "      <td>1</td>\n",
       "    </tr>\n",
       "    <tr>\n",
       "      <th>4</th>\n",
       "      <td>2015-07-31</td>\n",
       "      <td>5</td>\n",
       "      <td>5</td>\n",
       "      <td>4822</td>\n",
       "      <td>559</td>\n",
       "      <td>1</td>\n",
       "      <td>1</td>\n",
       "      <td>0</td>\n",
       "      <td>1</td>\n",
       "    </tr>\n",
       "  </tbody>\n",
       "</table>\n",
       "</div>"
      ]
     },
     "execution_count": 7,
     "metadata": {},
     "output_type": "execute_result"
    }
   ],
   "execution_count": 7
  },
  {
   "metadata": {},
   "cell_type": "markdown",
   "source": [
    "## 🔥 First elasticity-style insight: Promo effect\n",
    "- We can directly model the effect of Promo (binary: 0/1) on Sales. This tells you:\n",
    "\n",
    "- How much more (or less) you sell when running a promo vs. not running one.\n",
    "\n",
    "- Even a simple OLS regression can give you:\n",
    "\n",
    "- The coefficient for Promo → this acts like a proxy elasticity for how responsive sales are to promotions."
   ],
   "id": "43da1635d01238c7"
  },
  {
   "metadata": {},
   "cell_type": "markdown",
   "source": "## 💡 Let’s draft the steps:\n",
   "id": "9d2d9de90ea61050"
  },
  {
   "metadata": {},
   "cell_type": "markdown",
   "source": "### 1️⃣ Convert Date as before:",
   "id": "d488e054e6fd0eb5"
  },
  {
   "metadata": {
    "ExecuteTime": {
     "end_time": "2025-05-06T06:12:14.516715Z",
     "start_time": "2025-05-06T06:12:13.948349Z"
    }
   },
   "cell_type": "code",
   "source": [
    "processed_data['Date'] = pd.to_datetime(processed_data['Date'])\n",
    "processed_data['Month'] = processed_data['Date'].dt.month\n",
    "processed_data['Year'] = processed_data['Date'].dt.year\n",
    "processed_data['WeekOfYear'] = processed_data['Date'].dt.isocalendar().week\n"
   ],
   "id": "1c29a9af922ab980",
   "outputs": [],
   "execution_count": 8
  },
  {
   "metadata": {},
   "cell_type": "markdown",
   "source": "### 2️⃣ Filter to open stores only (because closed = 0 sales):",
   "id": "e7e5c006d7ea0936"
  },
  {
   "metadata": {
    "ExecuteTime": {
     "end_time": "2025-05-06T06:12:14.712862Z",
     "start_time": "2025-05-06T06:12:14.666924Z"
    }
   },
   "cell_type": "code",
   "source": "data_open = processed_data[processed_data['Open'] == 1]\n",
   "id": "a0f89d469e858fa",
   "outputs": [],
   "execution_count": 9
  },
  {
   "metadata": {},
   "cell_type": "markdown",
   "source": "### 3️⃣ Set up features & target:",
   "id": "8bfae0591de9f7c8"
  },
  {
   "metadata": {
    "ExecuteTime": {
     "end_time": "2025-05-06T06:12:15.229708Z",
     "start_time": "2025-05-06T06:12:15.207965Z"
    }
   },
   "cell_type": "code",
   "source": [
    "features = ['Promo', 'StateHoliday', 'SchoolHoliday', 'DayOfWeek', 'Month', 'Year']\n",
    "X = data_open[features]\n",
    "y = data_open['Sales']\n"
   ],
   "id": "d2fe8893ce740908",
   "outputs": [],
   "execution_count": 10
  },
  {
   "metadata": {},
   "cell_type": "markdown",
   "source": "### 4️⃣ Linear regression:",
   "id": "39702155669f8247"
  },
  {
   "metadata": {
    "ExecuteTime": {
     "end_time": "2025-05-06T06:12:15.901392Z",
     "start_time": "2025-05-06T06:12:15.337824Z"
    }
   },
   "cell_type": "code",
   "source": [
    "X_train, X_test, y_train, y_test = train_test_split(X, y, test_size=0.2, random_state=42)\n",
    "\n",
    "lr = LinearRegression()\n",
    "lr.fit(X_train, y_train)\n",
    "\n",
    "print(\"Train R^2:\", lr.score(X_train, y_train))\n",
    "print(\"Test R^2:\", lr.score(X_test, y_test))\n"
   ],
   "id": "bdb849d35fd7a28c",
   "outputs": [
    {
     "name": "stdout",
     "output_type": "stream",
     "text": [
      "Train R^2: 0.1502372392327186\n",
      "Test R^2: 0.1487795746920464\n"
     ]
    }
   ],
   "execution_count": 11
  },
  {
   "metadata": {},
   "cell_type": "markdown",
   "source": [
    "### 5️⃣ Elasticity-like insight: Promo effect\n",
    "After training, check the coefficients:"
   ],
   "id": "6893c1a91a818013"
  },
  {
   "metadata": {
    "ExecuteTime": {
     "end_time": "2025-05-06T06:12:16.122399Z",
     "start_time": "2025-05-06T06:12:16.094438Z"
    }
   },
   "cell_type": "code",
   "source": [
    "coef_table = pd.DataFrame({\n",
    "    'Feature': X.columns,\n",
    "    'Coefficient': lr.coef_\n",
    "})\n",
    "print(coef_table)\n"
   ],
   "id": "9b3eacabd77b2d86",
   "outputs": [
    {
     "name": "stdout",
     "output_type": "stream",
     "text": [
      "         Feature   Coefficient\n",
      "0          Promo  2.158871e+03\n",
      "1   StateHoliday  4.831691e-13\n",
      "2  SchoolHoliday  7.052238e+01\n",
      "3      DayOfWeek -1.367336e+02\n",
      "4          Month  8.163864e+01\n",
      "5           Year  2.024603e+02\n"
     ]
    }
   ],
   "execution_count": 12
  },
  {
   "metadata": {},
   "cell_type": "markdown",
   "source": "## 🔍 Analysis of the model",
   "id": "acaabefa6c0ca0b4"
  },
  {
   "metadata": {},
   "cell_type": "markdown",
   "source": [
    "### 🟢 Promo: +2158.87\n",
    "💥 BOOM—this is your headline stat.\n",
    "\n",
    "✅ On average, when a promo is running, sales increase by about 2,159 units compared to days when there’s no promo.\n",
    "\n",
    "📈 This is your \"promotion elasticity proxy\"—while it’s not a percentage change (since we don’t have price), it tells you how sensitive sales are to the presence of a promotion.\n",
    "\n"
   ],
   "id": "8b6557d6782da2a9"
  },
  {
   "metadata": {},
   "cell_type": "markdown",
   "source": [
    "### 🟠 StateHoliday: ~ 0 (4.8e-13)\n",
    "That’s super tiny—basically no effect.\n",
    "\n",
    "This tells us:\n",
    "\n",
    "🏖️ Whether it’s a state holiday or not doesn’t seem to impact sales much in your data.\n",
    "\n",
    "Do we know if this column had real variation (were there holidays at all?), or was it sparse? Worth checking with:"
   ],
   "id": "3d88feba0022768"
  },
  {
   "metadata": {
    "ExecuteTime": {
     "end_time": "2025-05-06T06:12:16.410695Z",
     "start_time": "2025-05-06T06:12:16.368192Z"
    }
   },
   "cell_type": "code",
   "source": "print(processed_data['StateHoliday'].value_counts())\n",
   "id": "788898f19434db75",
   "outputs": [
    {
     "name": "stdout",
     "output_type": "stream",
     "text": [
      "StateHoliday\n",
      "0    843482\n",
      "Name: count, dtype: int64\n"
     ]
    }
   ],
   "execution_count": 13
  },
  {
   "metadata": {},
   "cell_type": "markdown",
   "source": [
    "## This tells us:\n",
    "\n",
    "- ✅ 100% of your data points (843,482 rows) have StateHoliday = 0.\n",
    "- ❌ No actual state holidays are present."
   ],
   "id": "7c0d612afa732da0"
  },
  {
   "metadata": {},
   "cell_type": "markdown",
   "source": [
    "### 💡 Why did the model give us that tiny coefficient (~4.8e-13)?\n",
    "- Because the StateHoliday feature is constant—it never changes. That means it's giving the model no real signal at all.\n",
    "\n",
    "- In linear regression, when a feature has no variation, it can’t actually contribute meaningfully to prediction. The regression still assigns it a tiny (basically zero) coefficient, but it’s doing nothing."
   ],
   "id": "6b65425732795225"
  },
  {
   "metadata": {},
   "cell_type": "markdown",
   "source": [
    "### ✅ Next Steps?\n",
    "- Remove StateHoliday from the feature list going forward because:\n",
    "    - It’s useless here (no variation = no predictive power).\n",
    "    - It might even slightly slow down or complicate future models (especially tree-based ones that don’t handle constant features well)."
   ],
   "id": "5b69bf7c49a99ff6"
  },
  {
   "metadata": {},
   "cell_type": "markdown",
   "source": [
    "### 🟡 SchoolHoliday: +70.5\n",
    "This one's interesting:\n",
    "\n",
    "- When there’s a school holiday, sales increase by ~71 units on average.\n",
    "- Not a massive effect, but it’s positive.\n",
    "\n",
    "✅ This makes intuitive sense—families might shop more when kids are out of school.\n",
    "\n",
    "### 🔵 DayOfWeek: -136.7\n",
    "This one tells us that as the day of the week increases (likely Monday=1 up to Sunday=7):\n",
    "\n",
    "- Sales drop about 137 units per day going later in the week.\n",
    "- It’s linear here, so it might not fully capture patterns like weekend spikes—this could be better handled later with dummy variables (categoricals).\n",
    "\n",
    "### 🟣 Month: +81.6\n",
    "Each later month in the year is associated with ~82 units more in sales.\n",
    "\n",
    "- This may reflect seasonality trends (e.g., Q4 increases), but it’s a pretty small per-month bump.\n",
    "\n",
    "### 🟤 Year: +202.5\n",
    "Each year forward (like from 2022 to 2023) is associated with ~202 extra sales units.\n",
    "\n",
    "- This suggests an upward trend year over year (maybe business growth, inflation, or other market factors)."
   ],
   "id": "b83260856033c011"
  },
  {
   "metadata": {},
   "cell_type": "markdown",
   "source": [
    "## 🚦 What’s the Big Takeaway?\n",
    "\n",
    "| 📊 **Feature**      | 💥 **Interpretation**                                                                                      |\n",
    "|---------------------|----------------------------------------------------------------------------------------------------------|\n",
    "| **Promo**           | 🔥 **Major impact: +2159 sales boost.** This is your *main elasticity-like driver.*                       |\n",
    "| **StateHoliday**    | 💤 **No real effect.**                                                                                   |\n",
    "| **SchoolHoliday**   | 👍 Small positive bump (~71 units).                                                                      |\n",
    "| **DayOfWeek**       | 📉 Sales **decline by ~137 units** later in the week (might hint at a weekend lull—worth deeper analysis). |\n",
    "| **Month**           | 📈 Slight positive trend across months (~82 units increase per month).                                    |\n",
    "| **Year**            | 🚀 Solid +200 unit boost per year—suggests business growth or other long-term upward trend.               |\n"
   ],
   "id": "af60064cfe7bbdab"
  },
  {
   "metadata": {},
   "cell_type": "markdown",
   "source": "**Note:** The `StateHoliday` feature was removed from further modeling because the dataset contains no actual state holidays (100% of rows have `StateHoliday = 0`), making it a constant feature with no predictive value.\n",
   "id": "9e9d7f33a4203668"
  },
  {
   "metadata": {
    "ExecuteTime": {
     "end_time": "2025-05-06T06:12:16.672478Z",
     "start_time": "2025-05-06T06:12:16.659978Z"
    }
   },
   "cell_type": "code",
   "source": "features = ['Promo', 'SchoolHoliday', 'DayOfWeek', 'Month', 'Year']\n",
   "id": "3bdff098cf8719fb",
   "outputs": [],
   "execution_count": 14
  },
  {
   "metadata": {},
   "cell_type": "markdown",
   "source": [
    "### 2️⃣ 🔄 Re-split your data:\n",
    "Let’s keep things clean:"
   ],
   "id": "e7885517097a06c1"
  },
  {
   "metadata": {
    "ExecuteTime": {
     "end_time": "2025-05-06T06:12:17.511724Z",
     "start_time": "2025-05-06T06:12:17.072206Z"
    }
   },
   "cell_type": "code",
   "source": [
    "X = data_open[features]\n",
    "y = data_open['Sales']\n",
    "\n",
    "X_train, X_test, y_train, y_test = train_test_split(\n",
    "    X, y, test_size=0.2, random_state=42\n",
    ")\n"
   ],
   "id": "d715eceba70f6bd5",
   "outputs": [],
   "execution_count": 15
  },
  {
   "metadata": {},
   "cell_type": "markdown",
   "source": "### 3️⃣ 🚀 Refit the model:",
   "id": "e16b4a16535cffdb"
  },
  {
   "metadata": {
    "ExecuteTime": {
     "end_time": "2025-05-06T06:13:55.275831Z",
     "start_time": "2025-05-06T06:13:55.077134Z"
    }
   },
   "cell_type": "code",
   "source": [
    "lr = LinearRegression()\n",
    "lr.fit(X_train, y_train)\n",
    "\n",
    "print(\"Train R^2:\", lr.score(X_train, y_train))\n",
    "print(\"Test R^2:\", lr.score(X_test, y_test))\n"
   ],
   "id": "504bd9878d52a553",
   "outputs": [
    {
     "name": "stdout",
     "output_type": "stream",
     "text": [
      "Train R^2: 0.15023723923271926\n",
      "Test R^2: 0.14877957469204728\n"
     ]
    }
   ],
   "execution_count": 16
  },
  {
   "metadata": {},
   "cell_type": "markdown",
   "source": "### 4️⃣ 🧐 Get the updated coefficients:",
   "id": "a65652d9e15d9f48"
  },
  {
   "metadata": {
    "ExecuteTime": {
     "end_time": "2025-05-06T06:14:39.746498Z",
     "start_time": "2025-05-06T06:14:39.738107Z"
    }
   },
   "cell_type": "code",
   "source": [
    "coef_table = pd.DataFrame({\n",
    "    'Feature': X.columns,\n",
    "    'Coefficient': lr.coef_\n",
    "})\n",
    "print(coef_table)\n"
   ],
   "id": "bffa394952d6bb1b",
   "outputs": [
    {
     "name": "stdout",
     "output_type": "stream",
     "text": [
      "         Feature  Coefficient\n",
      "0          Promo  2158.870979\n",
      "1  SchoolHoliday    70.522376\n",
      "2      DayOfWeek  -136.733631\n",
      "3          Month    81.638638\n",
      "4           Year   202.460311\n"
     ]
    }
   ],
   "execution_count": 17
  },
  {
   "metadata": {},
   "cell_type": "markdown",
   "source": "### ✅ What are the coefficents telling us?",
   "id": "289ea8cd529d2af9"
  },
  {
   "metadata": {},
   "cell_type": "markdown",
   "source": [
    "| **Feature**       | **Coefficient** | **What it means**                                                                                           |\n",
    "|-------------------|-----------------|------------------------------------------------------------------------------------------------------------|\n",
    "| **Promo**         | 2158.87         | ➔ When `Promo` changes from 0 → 1 (no promo → promo), **sales increase by ~2159 units.**                    |\n",
    "| **SchoolHoliday** | 70.52           | ➔ When `SchoolHoliday` changes from 0 → 1, **sales increase by ~71 units.**                                 |\n",
    "| **DayOfWeek**     | -136.73         | ➔ For each *increment* in `DayOfWeek` (e.g., Monday=1 → Tuesday=2), **sales decrease by ~137 units.**       |\n",
    "| **Month**         | 81.64           | ➔ For each *increment* in `Month` (e.g., January=1 → February=2), **sales increase by ~82 units.**          |\n",
    "| **Year**          | 202.46          | ➔ For each *increment* in `Year` (e.g., 2023 → 2024), **sales increase by ~202 units.**                     |\n"
   ],
   "id": "632438b568a5c861"
  },
  {
   "metadata": {},
   "cell_type": "markdown",
   "source": [
    "### 🔄 Model Update: Removed `StateHoliday`\n",
    "\n",
    "We re-ran the model after removing the `StateHoliday` feature (constant = 0). The updated model shows:\n",
    "\n",
    "- ✅ Similar `Promo` effect (~ +2150 units).\n",
    "- ✅ Slight refinement in other coefficients.\n",
    "- ✅ Model performance remained stable, confirming `StateHoliday` had no predictive value.\n"
   ],
   "id": "24e4fa99e149a872"
  },
  {
   "metadata": {
    "ExecuteTime": {
     "end_time": "2025-05-06T06:38:02.283885Z",
     "start_time": "2025-05-06T06:38:02.186400Z"
    }
   },
   "cell_type": "code",
   "source": [
    "print(\"Train R^2:\", lr.score(X_train, y_train))\n",
    "print(\"Test R^2:\", lr.score(X_test, y_test))\n"
   ],
   "id": "bf4cbe66a3cac19f",
   "outputs": [
    {
     "name": "stdout",
     "output_type": "stream",
     "text": [
      "Train R^2: 0.15023723923271926\n",
      "Test R^2: 0.14877957469204728\n"
     ]
    }
   ],
   "execution_count": 19
  },
  {
   "metadata": {},
   "cell_type": "markdown",
   "source": [
    "### **Model Performance:**\n",
    "\n",
    "- **Train R²:** 0.15\n",
    "- **Test R²:** 0.15\n",
    "\n",
    "This indicates the model explains ~15% of the variance in sales. While this is relatively low, it reflects the noisy nature of sales data and the limited feature set (no price data, no detailed store/product information). The model successfully captures general patterns (e.g., the strong positive effect of promotions) but is not suitable for high-precision forecasting in its current form.\n",
    "\n",
    "#### **Next steps:**\n",
    "- Introduce categorical encoding for `DayOfWeek` and `Month`.\n",
    "- Add `Store` as a feature.\n",
    "- Explore non-linear models (e.g., RandomForest).\n",
    "- Investigate feature interactions (e.g., `Promo * DayOfWeek`).\n"
   ],
   "id": "3f92ffd51d867c18"
  },
  {
   "metadata": {},
   "cell_type": "markdown",
   "source": "### Check to see how many stores are included in the store data",
   "id": "73efb187908b2393"
  },
  {
   "metadata": {
    "ExecuteTime": {
     "end_time": "2025-05-06T06:42:47.327907Z",
     "start_time": "2025-05-06T06:42:47.291536Z"
    }
   },
   "cell_type": "code",
   "source": [
    "print(data_open['Store'].value_counts())\n",
    "print(data_open['Store'].nunique())\n"
   ],
   "id": "9086279e3c17c73c",
   "outputs": [
    {
     "name": "stdout",
     "output_type": "stream",
     "text": [
      "Store\n",
      "562    918\n",
      "85     918\n",
      "423    918\n",
      "262    918\n",
      "682    918\n",
      "      ... \n",
      "909    607\n",
      "100    606\n",
      "744    605\n",
      "348    597\n",
      "644    592\n",
      "Name: count, Length: 1115, dtype: int64\n",
      "1115\n"
     ]
    }
   ],
   "execution_count": 20
  },
  {
   "metadata": {},
   "cell_type": "markdown",
   "source": "### The data shows there are 1,115 unique store IDs",
   "id": "f87b68cd0adda320"
  },
  {
   "metadata": {},
   "cell_type": "markdown",
   "source": [
    "### Why Move from Linear Regression to RandomForest?\n",
    "\n",
    "The initial linear regression model provided useful directional insights but yielded low explanatory power (R² ~0.15). This is expected because linear regression assumes purely linear relationships between features and sales. However, real-world retail sales are influenced by complex, non-linear patterns—such as store-specific behavior, varying promo effectiveness, and seasonal effects.\n",
    "\n",
    "Key reasons for adopting RandomForest:\n",
    "\n",
    "- **Non-linear modeling:** RandomForest captures complex, non-linear relationships automatically, without requiring manual feature engineering (e.g., interaction terms between Promo and Store).\n",
    "- **Better handling of categorical variables:** While linear regression requires one-hot encoding (adding 1,100+ dummy variables for `Store`), RandomForest efficiently handles categorical labels through simple label encoding.\n",
    "- **Automatic interaction learning:** RandomForest naturally identifies important interactions, such as certain stores being more sensitive to promotions on specific days.\n",
    "- **Improved predictive power:** Tree-based models typically yield higher R² in noisy retail datasets, offering more accurate predictions even with the same data.\n",
    "\n",
    "For these reasons, RandomForest was selected as the next modeling step to improve performance and capture deeper patterns in the sales data.\n"
   ],
   "id": "ce766963f7813ddb"
  },
  {
   "metadata": {},
   "cell_type": "code",
   "outputs": [],
   "execution_count": null,
   "source": "",
   "id": "a766bec9b81c9309"
  }
 ],
 "metadata": {
  "kernelspec": {
   "display_name": "Python 3",
   "language": "python",
   "name": "python3"
  },
  "language_info": {
   "codemirror_mode": {
    "name": "ipython",
    "version": 2
   },
   "file_extension": ".py",
   "mimetype": "text/x-python",
   "name": "python",
   "nbconvert_exporter": "python",
   "pygments_lexer": "ipython2",
   "version": "2.7.6"
  }
 },
 "nbformat": 4,
 "nbformat_minor": 5
}
