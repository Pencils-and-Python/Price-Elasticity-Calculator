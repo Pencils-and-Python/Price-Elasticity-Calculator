{
 "cells": [
  {
   "metadata": {},
   "cell_type": "markdown",
   "source": [
    "# 📈 Elasticity Project: Model Summary\n",
    "\n",
    "This model focuses on **Price Elasticity of Demand (PED)** and its effect on total revenue. It allows users to explore how changes in price influence quantity demanded and overall sales performance.\n",
    "\n",
    "## ✅ **Key Components:**\n",
    "\n",
    "1. **Price Elasticity of Demand (PED) Calculation**\n",
    "\n",
    "   The elasticity is calculated using the midpoint formula to provide stable and realistic elasticity estimates:\n",
    "\n",
    "   $$\n",
    "   E_d = \\frac{\\frac{Q_2 - Q_1}{(Q_2 + Q_1)/2}}{\\frac{P_2 - P_1}{(P_2 + P_1)/2}}\n",
    "   $$\n",
    "\n",
    "   Where:\n",
    "   - \\( Q_1 \\), \\( Q_2 \\) = Original and new quantity demanded.\n",
    "   - \\( P_1 \\), \\( P_2 \\) = Original and new price.\n",
    "\n",
    "2. **Elasticity Classification**\n",
    "\n",
    "   The model classifies elasticity as:\n",
    "   - **Elastic** if \\( E_d > 1 \\)\n",
    "   - **Inelastic** if \\( E_d < 1 \\)\n",
    "   - **Unitary Elastic** if \\( E_d = 1 \\)\n",
    "\n",
    "3. **Revenue Impact Calculation**\n",
    "\n",
    "   We calculate **Total Revenue (TR)** before and after the price change:\n",
    "\n",
    "   $$\n",
    "   TR_1 = P_1 \\times Q_1\n",
    "   $$\n",
    "\n",
    "   $$\n",
    "   TR_2 = P_2 \\times Q_2\n",
    "   $$\n",
    "\n",
    "   The **change in revenue** is expressed as:\n",
    "\n",
    "   $$\n",
    "   \\Delta TR = TR_2 - TR_1\n",
    "   $$\n",
    "\n",
    "4. **Visualizations**\n",
    "\n",
    "   - **Demand Curve Plot:**\n",
    "     Shows the demand curve shifting based on user input.\n",
    "   - **Revenue Comparison:**\n",
    "     Displays side-by-side revenue before and after the price change.\n",
    "\n",
    "5. **User Inputs (via Sliders):**\n",
    "   - Initial price (\\( P_1 \\))\n",
    "   - Initial quantity (\\( Q_1 \\))\n",
    "   - % change in price (\\( \\%\\Delta P \\))\n",
    "\n",
    "6. **Output:**\n",
    "   - New price & quantity estimates.\n",
    "   - Elasticity classification (with interpretation).\n",
    "   - Revenue before & after (with impact summary).\n",
    "   - Interactive graph updates in real-time.\n"
   ],
   "id": "2fe5897a6d996bdf"
  },
  {
   "metadata": {
    "ExecuteTime": {
     "end_time": "2025-05-10T04:21:15.095590Z",
     "start_time": "2025-05-10T04:21:14.651020Z"
    }
   },
   "cell_type": "code",
   "source": [
    "import pandas as pd\n",
    "import numpy as np\n",
    "import joblib\n",
    "from sklearn.linear_model import LinearRegression\n",
    "from sklearn.model_selection import train_test_split, cross_val_score\n",
    "from sklearn.ensemble import RandomForestRegressor\n",
    "from sklearn.metrics import mean_squared_error, r2_score\n",
    "from sklearn.preprocessing import PolynomialFeatures\n"
   ],
   "id": "5b1ab86a2f59194d",
   "outputs": [],
   "execution_count": 1
  },
  {
   "cell_type": "code",
   "id": "initial_id",
   "metadata": {
    "collapsed": true,
    "ExecuteTime": {
     "end_time": "2025-05-10T04:21:15.745431Z",
     "start_time": "2025-05-10T04:21:15.140777Z"
    }
   },
   "source": "processed_data = pd.read_csv('../data/processed/processed_data.csv')",
   "outputs": [],
   "execution_count": 2
  },
  {
   "metadata": {},
   "cell_type": "markdown",
   "source": "## ✅ Check data is clean",
   "id": "67c138ebdd69bed9"
  },
  {
   "metadata": {
    "ExecuteTime": {
     "end_time": "2025-05-10T04:21:16.029153Z",
     "start_time": "2025-05-10T04:21:15.942971Z"
    }
   },
   "cell_type": "code",
   "source": "processed_data.info()",
   "id": "779496c7a7baea",
   "outputs": [
    {
     "name": "stdout",
     "output_type": "stream",
     "text": [
      "<class 'pandas.core.frame.DataFrame'>\n",
      "RangeIndex: 843482 entries, 0 to 843481\n",
      "Data columns (total 9 columns):\n",
      " #   Column         Non-Null Count   Dtype \n",
      "---  ------         --------------   ----- \n",
      " 0   Date           843482 non-null  object\n",
      " 1   Store          843482 non-null  int64 \n",
      " 2   DayOfWeek      843482 non-null  int64 \n",
      " 3   Sales          843482 non-null  int64 \n",
      " 4   Customers      843482 non-null  int64 \n",
      " 5   Open           843482 non-null  int64 \n",
      " 6   Promo          843482 non-null  int64 \n",
      " 7   StateHoliday   843482 non-null  int64 \n",
      " 8   SchoolHoliday  843482 non-null  int64 \n",
      "dtypes: int64(8), object(1)\n",
      "memory usage: 57.9+ MB\n"
     ]
    }
   ],
   "execution_count": 3
  },
  {
   "metadata": {
    "ExecuteTime": {
     "end_time": "2025-05-10T04:21:16.184460Z",
     "start_time": "2025-05-10T04:21:16.161208Z"
    }
   },
   "cell_type": "code",
   "source": "processed_data.head()\n",
   "id": "808d072d5c26bc5b",
   "outputs": [
    {
     "data": {
      "text/plain": [
       "         Date  Store  DayOfWeek  Sales  Customers  Open  Promo  StateHoliday  \\\n",
       "0  2015-07-31      1          5   5263        555     1      1             0   \n",
       "1  2015-07-31      2          5   6064        625     1      1             0   \n",
       "2  2015-07-31      3          5   8314        821     1      1             0   \n",
       "3  2015-07-31      4          5  13995       1498     1      1             0   \n",
       "4  2015-07-31      5          5   4822        559     1      1             0   \n",
       "\n",
       "   SchoolHoliday  \n",
       "0              1  \n",
       "1              1  \n",
       "2              1  \n",
       "3              1  \n",
       "4              1  "
      ],
      "text/html": [
       "<div>\n",
       "<style scoped>\n",
       "    .dataframe tbody tr th:only-of-type {\n",
       "        vertical-align: middle;\n",
       "    }\n",
       "\n",
       "    .dataframe tbody tr th {\n",
       "        vertical-align: top;\n",
       "    }\n",
       "\n",
       "    .dataframe thead th {\n",
       "        text-align: right;\n",
       "    }\n",
       "</style>\n",
       "<table border=\"1\" class=\"dataframe\">\n",
       "  <thead>\n",
       "    <tr style=\"text-align: right;\">\n",
       "      <th></th>\n",
       "      <th>Date</th>\n",
       "      <th>Store</th>\n",
       "      <th>DayOfWeek</th>\n",
       "      <th>Sales</th>\n",
       "      <th>Customers</th>\n",
       "      <th>Open</th>\n",
       "      <th>Promo</th>\n",
       "      <th>StateHoliday</th>\n",
       "      <th>SchoolHoliday</th>\n",
       "    </tr>\n",
       "  </thead>\n",
       "  <tbody>\n",
       "    <tr>\n",
       "      <th>0</th>\n",
       "      <td>2015-07-31</td>\n",
       "      <td>1</td>\n",
       "      <td>5</td>\n",
       "      <td>5263</td>\n",
       "      <td>555</td>\n",
       "      <td>1</td>\n",
       "      <td>1</td>\n",
       "      <td>0</td>\n",
       "      <td>1</td>\n",
       "    </tr>\n",
       "    <tr>\n",
       "      <th>1</th>\n",
       "      <td>2015-07-31</td>\n",
       "      <td>2</td>\n",
       "      <td>5</td>\n",
       "      <td>6064</td>\n",
       "      <td>625</td>\n",
       "      <td>1</td>\n",
       "      <td>1</td>\n",
       "      <td>0</td>\n",
       "      <td>1</td>\n",
       "    </tr>\n",
       "    <tr>\n",
       "      <th>2</th>\n",
       "      <td>2015-07-31</td>\n",
       "      <td>3</td>\n",
       "      <td>5</td>\n",
       "      <td>8314</td>\n",
       "      <td>821</td>\n",
       "      <td>1</td>\n",
       "      <td>1</td>\n",
       "      <td>0</td>\n",
       "      <td>1</td>\n",
       "    </tr>\n",
       "    <tr>\n",
       "      <th>3</th>\n",
       "      <td>2015-07-31</td>\n",
       "      <td>4</td>\n",
       "      <td>5</td>\n",
       "      <td>13995</td>\n",
       "      <td>1498</td>\n",
       "      <td>1</td>\n",
       "      <td>1</td>\n",
       "      <td>0</td>\n",
       "      <td>1</td>\n",
       "    </tr>\n",
       "    <tr>\n",
       "      <th>4</th>\n",
       "      <td>2015-07-31</td>\n",
       "      <td>5</td>\n",
       "      <td>5</td>\n",
       "      <td>4822</td>\n",
       "      <td>559</td>\n",
       "      <td>1</td>\n",
       "      <td>1</td>\n",
       "      <td>0</td>\n",
       "      <td>1</td>\n",
       "    </tr>\n",
       "  </tbody>\n",
       "</table>\n",
       "</div>"
      ]
     },
     "execution_count": 4,
     "metadata": {},
     "output_type": "execute_result"
    }
   ],
   "execution_count": 4
  },
  {
   "metadata": {},
   "cell_type": "markdown",
   "source": [
    "## 🔥 First elasticity-style insight: Promo effect\n",
    "- We can directly model the effect of Promo (binary: 0/1) on Sales. This tells you:\n",
    "\n",
    "- How much more (or less) you sell when running a promo vs. not running one.\n",
    "\n",
    "- Even a simple OLS regression can give you:\n",
    "\n",
    "- The coefficient for Promo → this acts like a proxy elasticity for how responsive sales are to promotions."
   ],
   "id": "43da1635d01238c7"
  },
  {
   "metadata": {},
   "cell_type": "markdown",
   "source": "## 💡 Let’s draft the steps:\n",
   "id": "9d2d9de90ea61050"
  },
  {
   "metadata": {},
   "cell_type": "markdown",
   "source": "### 1️⃣ Convert Date as before:",
   "id": "d488e054e6fd0eb5"
  },
  {
   "metadata": {
    "ExecuteTime": {
     "end_time": "2025-05-10T04:21:16.665126Z",
     "start_time": "2025-05-10T04:21:16.353144Z"
    }
   },
   "cell_type": "code",
   "source": [
    "processed_data['Date'] = pd.to_datetime(processed_data['Date'])\n",
    "processed_data['Month'] = processed_data['Date'].dt.month\n",
    "processed_data['Year'] = processed_data['Date'].dt.year\n",
    "processed_data['WeekOfYear'] = processed_data['Date'].dt.isocalendar().week\n"
   ],
   "id": "1c29a9af922ab980",
   "outputs": [],
   "execution_count": 5
  },
  {
   "metadata": {},
   "cell_type": "markdown",
   "source": "### 2️⃣ Filter to open stores only (because closed = 0 sales):",
   "id": "e7e5c006d7ea0936"
  },
  {
   "metadata": {
    "ExecuteTime": {
     "end_time": "2025-05-10T04:21:16.783539Z",
     "start_time": "2025-05-10T04:21:16.748873Z"
    }
   },
   "cell_type": "code",
   "source": "data_open = processed_data[processed_data['Open'] == 1]\n",
   "id": "a0f89d469e858fa",
   "outputs": [],
   "execution_count": 6
  },
  {
   "metadata": {},
   "cell_type": "markdown",
   "source": "### 3️⃣ Set up features & target:",
   "id": "8bfae0591de9f7c8"
  },
  {
   "metadata": {
    "ExecuteTime": {
     "end_time": "2025-05-10T04:21:17.247942Z",
     "start_time": "2025-05-10T04:21:17.226675Z"
    }
   },
   "cell_type": "code",
   "source": [
    "features = ['Promo', 'StateHoliday', 'SchoolHoliday', 'DayOfWeek', 'Month', 'Year']\n",
    "X = data_open[features]\n",
    "y = data_open['Sales']\n"
   ],
   "id": "d2fe8893ce740908",
   "outputs": [],
   "execution_count": 7
  },
  {
   "metadata": {},
   "cell_type": "markdown",
   "source": "### 4️⃣ Linear regression:",
   "id": "39702155669f8247"
  },
  {
   "metadata": {
    "ExecuteTime": {
     "end_time": "2025-05-10T04:21:18.202398Z",
     "start_time": "2025-05-10T04:21:17.520234Z"
    }
   },
   "cell_type": "code",
   "source": [
    "X_train, X_test, y_train, y_test = train_test_split(X, y, test_size=0.2, random_state=42)\n",
    "\n",
    "lr = LinearRegression()\n",
    "lr.fit(X_train, y_train)\n",
    "\n",
    "print(\"Train R^2:\", lr.score(X_train, y_train))\n",
    "print(\"Test R^2:\", lr.score(X_test, y_test))\n"
   ],
   "id": "bdb849d35fd7a28c",
   "outputs": [
    {
     "name": "stdout",
     "output_type": "stream",
     "text": [
      "Train R^2: 0.1502372392327186\n",
      "Test R^2: 0.1487795746920464\n"
     ]
    }
   ],
   "execution_count": 8
  },
  {
   "metadata": {},
   "cell_type": "markdown",
   "source": [
    "### 5️⃣ Elasticity-like insight: Promo effect\n",
    "After training, check the coefficients:"
   ],
   "id": "6893c1a91a818013"
  },
  {
   "metadata": {
    "ExecuteTime": {
     "end_time": "2025-05-10T04:21:18.354980Z",
     "start_time": "2025-05-10T04:21:18.342627Z"
    }
   },
   "cell_type": "code",
   "source": [
    "coef_table = pd.DataFrame({\n",
    "    'Feature': X.columns,\n",
    "    'Coefficient': lr.coef_\n",
    "})\n",
    "print(coef_table)\n"
   ],
   "id": "9b3eacabd77b2d86",
   "outputs": [
    {
     "name": "stdout",
     "output_type": "stream",
     "text": [
      "         Feature   Coefficient\n",
      "0          Promo  2.158871e+03\n",
      "1   StateHoliday  4.831691e-13\n",
      "2  SchoolHoliday  7.052238e+01\n",
      "3      DayOfWeek -1.367336e+02\n",
      "4          Month  8.163864e+01\n",
      "5           Year  2.024603e+02\n"
     ]
    }
   ],
   "execution_count": 9
  },
  {
   "metadata": {},
   "cell_type": "markdown",
   "source": "## 🔍 Analysis of the model",
   "id": "acaabefa6c0ca0b4"
  },
  {
   "metadata": {},
   "cell_type": "markdown",
   "source": [
    "### 🟢 Promo: +2158.87\n",
    "💥 BOOM—this is your headline stat.\n",
    "\n",
    "✅ On average, when a promo is running, sales increase by about 2,159 units compared to days when there’s no promo.\n",
    "\n",
    "📈 This is your \"promotion elasticity proxy\"—while it’s not a percentage change (since we don’t have price), it tells you how sensitive sales are to the presence of a promotion.\n",
    "\n"
   ],
   "id": "8b6557d6782da2a9"
  },
  {
   "metadata": {},
   "cell_type": "markdown",
   "source": [
    "### 🟠 StateHoliday: ~ 0 (4.8e-13)\n",
    "That’s super tiny—basically no effect.\n",
    "\n",
    "This tells us:\n",
    "\n",
    "🏖️ Whether it’s a state holiday or not doesn’t seem to impact sales much in your data.\n",
    "\n",
    "Do we know if this column had real variation (were there holidays at all?), or was it sparse? Worth checking with:"
   ],
   "id": "3d88feba0022768"
  },
  {
   "metadata": {
    "ExecuteTime": {
     "end_time": "2025-05-10T04:21:18.589160Z",
     "start_time": "2025-05-10T04:21:18.564971Z"
    }
   },
   "cell_type": "code",
   "source": "print(processed_data['StateHoliday'].value_counts())\n",
   "id": "788898f19434db75",
   "outputs": [
    {
     "name": "stdout",
     "output_type": "stream",
     "text": [
      "StateHoliday\n",
      "0    843482\n",
      "Name: count, dtype: int64\n"
     ]
    }
   ],
   "execution_count": 10
  },
  {
   "metadata": {},
   "cell_type": "markdown",
   "source": [
    "## This tells us:\n",
    "\n",
    "- ✅ 100% of your data points (843,482 rows) have StateHoliday = 0.\n",
    "- ❌ No actual state holidays are present."
   ],
   "id": "7c0d612afa732da0"
  },
  {
   "metadata": {},
   "cell_type": "markdown",
   "source": [
    "### 💡 Why did the model give us that tiny coefficient (~4.8e-13)?\n",
    "- Because the StateHoliday feature is constant—it never changes. That means it's giving the model no real signal at all.\n",
    "\n",
    "- In linear regression, when a feature has no variation, it can’t actually contribute meaningfully to prediction. The regression still assigns it a tiny (basically zero) coefficient, but it’s doing nothing."
   ],
   "id": "6b65425732795225"
  },
  {
   "metadata": {},
   "cell_type": "markdown",
   "source": [
    "### ✅ Next Steps?\n",
    "- Remove StateHoliday from the feature list going forward because:\n",
    "    - It’s useless here (no variation = no predictive power).\n",
    "    - It might even slightly slow down or complicate future models (especially tree-based ones that don’t handle constant features well)."
   ],
   "id": "5b69bf7c49a99ff6"
  },
  {
   "metadata": {},
   "cell_type": "markdown",
   "source": [
    "### 🟡 SchoolHoliday: +70.5\n",
    "This one's interesting:\n",
    "\n",
    "- When there’s a school holiday, sales increase by ~71 units on average.\n",
    "- Not a massive effect, but it’s positive.\n",
    "\n",
    "✅ This makes intuitive sense—families might shop more when kids are out of school.\n",
    "\n",
    "### 🔵 DayOfWeek: -136.7\n",
    "This one tells us that as the day of the week increases (likely Monday=1 up to Sunday=7):\n",
    "\n",
    "- Sales drop about 137 units per day going later in the week.\n",
    "- It’s linear here, so it might not fully capture patterns like weekend spikes—this could be better handled later with dummy variables (categoricals).\n",
    "\n",
    "### 🟣 Month: +81.6\n",
    "Each later month in the year is associated with ~82 units more in sales.\n",
    "\n",
    "- This may reflect seasonality trends (e.g., Q4 increases), but it’s a pretty small per-month bump.\n",
    "\n",
    "### 🟤 Year: +202.5\n",
    "Each year forward (like from 2022 to 2023) is associated with ~202 extra sales units.\n",
    "\n",
    "- This suggests an upward trend year over year (maybe business growth, inflation, or other market factors)."
   ],
   "id": "b83260856033c011"
  },
  {
   "metadata": {},
   "cell_type": "markdown",
   "source": [
    "## 🚦 What’s the Big Takeaway?\n",
    "\n",
    "| 📊 **Feature**      | 💥 **Interpretation**                                                                                      |\n",
    "|---------------------|----------------------------------------------------------------------------------------------------------|\n",
    "| **Promo**           | 🔥 **Major impact: +2159 sales boost.** This is your *main elasticity-like driver.*                       |\n",
    "| **StateHoliday**    | 💤 **No real effect.**                                                                                   |\n",
    "| **SchoolHoliday**   | 👍 Small positive bump (~71 units).                                                                      |\n",
    "| **DayOfWeek**       | 📉 Sales **decline by ~137 units** later in the week (might hint at a weekend lull—worth deeper analysis). |\n",
    "| **Month**           | 📈 Slight positive trend across months (~82 units increase per month).                                    |\n",
    "| **Year**            | 🚀 Solid +200 unit boost per year—suggests business growth or other long-term upward trend.               |\n"
   ],
   "id": "af60064cfe7bbdab"
  },
  {
   "metadata": {},
   "cell_type": "markdown",
   "source": "**Note:** The `StateHoliday` feature was removed from further modeling because the dataset contains no actual state holidays (100% of rows have `StateHoliday = 0`), making it a constant feature with no predictive value.\n",
   "id": "9e9d7f33a4203668"
  },
  {
   "metadata": {
    "ExecuteTime": {
     "end_time": "2025-05-10T04:21:18.793249Z",
     "start_time": "2025-05-10T04:21:18.787914Z"
    }
   },
   "cell_type": "code",
   "source": "features = ['Promo', 'SchoolHoliday', 'DayOfWeek', 'Month', 'Year']\n",
   "id": "3bdff098cf8719fb",
   "outputs": [],
   "execution_count": 11
  },
  {
   "metadata": {},
   "cell_type": "markdown",
   "source": [
    "### 2️⃣ 🔄 Re-split your data:\n",
    "Let’s keep things clean:"
   ],
   "id": "e7885517097a06c1"
  },
  {
   "metadata": {
    "ExecuteTime": {
     "end_time": "2025-05-10T04:21:19.242349Z",
     "start_time": "2025-05-10T04:21:18.912103Z"
    }
   },
   "cell_type": "code",
   "source": [
    "X = data_open[features]\n",
    "y = data_open['Sales']\n",
    "\n",
    "X_train, X_test, y_train, y_test = train_test_split(\n",
    "    X, y, test_size=0.2, random_state=42\n",
    ")\n"
   ],
   "id": "d715eceba70f6bd5",
   "outputs": [],
   "execution_count": 12
  },
  {
   "metadata": {},
   "cell_type": "markdown",
   "source": "### 3️⃣ 🚀 Refit the model:",
   "id": "e16b4a16535cffdb"
  },
  {
   "metadata": {
    "ExecuteTime": {
     "end_time": "2025-05-10T04:56:14.110048Z",
     "start_time": "2025-05-10T04:56:13.722875Z"
    }
   },
   "cell_type": "code",
   "source": [
    "\n",
    "# Fit model\n",
    "lr = LinearRegression()\n",
    "lr.fit(X_train, y_train)\n",
    "\n",
    "# Predict on test set\n",
    "y_pred = lr.predict(X_test)\n",
    "\n",
    "# Calculate MSE and RMSE\n",
    "mse = mean_squared_error(y_test, y_pred)\n",
    "rmse = np.sqrt(mse)\n",
    "\n",
    "# Print metrics\n",
    "print(\"Train R^2:\", lr.score(X_train, y_train))\n",
    "print(\"Test R^2:\", lr.score(X_test, y_test))\n",
    "print(\"Test MSE:\", mse)\n",
    "print(\"Test RMSE:\", rmse)\n",
    "\n"
   ],
   "id": "504bd9878d52a553",
   "outputs": [
    {
     "name": "stdout",
     "output_type": "stream",
     "text": [
      "Train R^2: 0.8197562708621939\n",
      "Test R^2: 0.8176245322442448\n",
      "Test MSE: 1751865.9184369168\n",
      "Test RMSE: 1323.5807185196213\n"
     ]
    }
   ],
   "execution_count": 32
  },
  {
   "metadata": {},
   "cell_type": "markdown",
   "source": "### 4️⃣ 🧐 Get the updated coefficients:",
   "id": "a65652d9e15d9f48"
  },
  {
   "metadata": {
    "ExecuteTime": {
     "end_time": "2025-05-10T04:21:19.721188Z",
     "start_time": "2025-05-10T04:21:19.702287Z"
    }
   },
   "cell_type": "code",
   "source": [
    "coef_table = pd.DataFrame({\n",
    "    'Feature': X.columns,\n",
    "    'Coefficient': lr.coef_\n",
    "})\n",
    "print(coef_table)\n"
   ],
   "id": "bffa394952d6bb1b",
   "outputs": [
    {
     "name": "stdout",
     "output_type": "stream",
     "text": [
      "         Feature  Coefficient\n",
      "0          Promo  2158.870979\n",
      "1  SchoolHoliday    70.522376\n",
      "2      DayOfWeek  -136.733631\n",
      "3          Month    81.638638\n",
      "4           Year   202.460311\n"
     ]
    }
   ],
   "execution_count": 14
  },
  {
   "metadata": {},
   "cell_type": "markdown",
   "source": "### ✅ What are the coefficents telling us?",
   "id": "289ea8cd529d2af9"
  },
  {
   "metadata": {},
   "cell_type": "markdown",
   "source": [
    "| **Feature**       | **Coefficient** | **What it means**                                                                                           |\n",
    "|-------------------|-----------------|------------------------------------------------------------------------------------------------------------|\n",
    "| **Promo**         | 2158.87         | ➔ When `Promo` changes from 0 → 1 (no promo → promo), **sales increase by ~2159 units.**                    |\n",
    "| **SchoolHoliday** | 70.52           | ➔ When `SchoolHoliday` changes from 0 → 1, **sales increase by ~71 units.**                                 |\n",
    "| **DayOfWeek**     | -136.73         | ➔ For each *increment* in `DayOfWeek` (e.g., Monday=1 → Tuesday=2), **sales decrease by ~137 units.**       |\n",
    "| **Month**         | 81.64           | ➔ For each *increment* in `Month` (e.g., January=1 → February=2), **sales increase by ~82 units.**          |\n",
    "| **Year**          | 202.46          | ➔ For each *increment* in `Year` (e.g., 2023 → 2024), **sales increase by ~202 units.**                     |\n"
   ],
   "id": "632438b568a5c861"
  },
  {
   "metadata": {},
   "cell_type": "markdown",
   "source": [
    "### 🔄 Model Update: Removed `StateHoliday`\n",
    "\n",
    "We re-ran the model after removing the `StateHoliday` feature (constant = 0). The updated model shows:\n",
    "\n",
    "- ✅ Similar `Promo` effect (~ +2150 units).\n",
    "- ✅ Slight refinement in other coefficients.\n",
    "- ✅ Model performance remained stable, confirming `StateHoliday` had no predictive value.\n"
   ],
   "id": "24e4fa99e149a872"
  },
  {
   "metadata": {
    "ExecuteTime": {
     "end_time": "2025-05-10T04:21:20.071105Z",
     "start_time": "2025-05-10T04:21:19.942193Z"
    }
   },
   "cell_type": "code",
   "source": [
    "print(\"Train R^2:\", lr.score(X_train, y_train))\n",
    "print(\"Test R^2:\", lr.score(X_test, y_test))\n"
   ],
   "id": "bf4cbe66a3cac19f",
   "outputs": [
    {
     "name": "stdout",
     "output_type": "stream",
     "text": [
      "Train R^2: 0.15023723923271926\n",
      "Test R^2: 0.14877957469204728\n"
     ]
    }
   ],
   "execution_count": 15
  },
  {
   "metadata": {},
   "cell_type": "markdown",
   "source": [
    "### **Model Performance:**\n",
    "\n",
    "- **Train R²:** 0.15\n",
    "- **Test R²:** 0.15\n",
    "\n",
    "This indicates the model explains ~15% of the variance in sales. While this is relatively low, it reflects the noisy nature of sales data and the limited feature set (no price data, no detailed store/product information). The model successfully captures general patterns (e.g., the strong positive effect of promotions) but is not suitable for high-precision forecasting in its current form.\n",
    "\n",
    "#### **Next steps:**\n",
    "- Introduce categorical encoding for `DayOfWeek` and `Month`.\n",
    "- Add `Store` as a feature.\n",
    "- Explore non-linear models (e.g., RandomForest).\n",
    "- Investigate feature interactions (e.g., `Promo * DayOfWeek`).\n"
   ],
   "id": "3f92ffd51d867c18"
  },
  {
   "metadata": {},
   "cell_type": "markdown",
   "source": "### Check to see how many stores are included in the store data",
   "id": "73efb187908b2393"
  },
  {
   "metadata": {
    "ExecuteTime": {
     "end_time": "2025-05-10T04:21:20.305393Z",
     "start_time": "2025-05-10T04:21:20.262667Z"
    }
   },
   "cell_type": "code",
   "source": [
    "print(data_open['Store'].value_counts())\n",
    "print(data_open['Store'].nunique())\n"
   ],
   "id": "9086279e3c17c73c",
   "outputs": [
    {
     "name": "stdout",
     "output_type": "stream",
     "text": [
      "Store\n",
      "562    918\n",
      "85     918\n",
      "423    918\n",
      "262    918\n",
      "682    918\n",
      "      ... \n",
      "909    607\n",
      "100    606\n",
      "744    605\n",
      "348    597\n",
      "644    592\n",
      "Name: count, Length: 1115, dtype: int64\n",
      "1115\n"
     ]
    }
   ],
   "execution_count": 16
  },
  {
   "metadata": {},
   "cell_type": "markdown",
   "source": "### The data shows there are 1,115 unique store IDs",
   "id": "f87b68cd0adda320"
  },
  {
   "metadata": {},
   "cell_type": "markdown",
   "source": [
    "### Why Move from Linear Regression to RandomForest?\n",
    "\n",
    "The initial linear regression model provided useful directional insights but yielded low explanatory power (R² ~0.15). This is expected because linear regression assumes purely linear relationships between features and sales. However, real-world retail sales are influenced by complex, non-linear patterns—such as store-specific behavior, varying promo effectiveness, and seasonal effects.\n",
    "\n",
    "Key reasons for adopting RandomForest:\n",
    "\n",
    "- **Non-linear modeling:** RandomForest captures complex, non-linear relationships automatically, without requiring manual feature engineering (e.g., interaction terms between Promo and Store).\n",
    "- **Better handling of categorical variables:** While linear regression requires one-hot encoding (adding 1,100+ dummy variables for `Store`), RandomForest efficiently handles categorical labels through simple label encoding.\n",
    "- **Automatic interaction learning:** RandomForest naturally identifies important interactions, such as certain stores being more sensitive to promotions on specific days.\n",
    "- **Improved predictive power:** Tree-based models typically yield higher R² in noisy retail datasets, offering more accurate predictions even with the same data.\n",
    "\n",
    "For these reasons, RandomForest was selected as the next modeling step to improve performance and capture deeper patterns in the sales data.\n"
   ],
   "id": "ce766963f7813ddb"
  },
  {
   "metadata": {},
   "cell_type": "markdown",
   "source": [
    "### 📝 Feature Engineering and Model Improvement Plan\n",
    "**Background:**<br>\n",
    "Our initial linear regression model achieved an R² of ~0.15, indicating poor explanatory power. This low score suggested that key sources of variance were missing from the model or that linear assumptions were too restrictive.\n",
    "\n",
    "**To address this, we decided to:**\n",
    "\n",
    "- Introduce additional predictive features\n",
    "\n",
    "- Move from a linear model to a non-linear model (Random Forest Regressor) to capture complex interactions."
   ],
   "id": "95f1879827f702f3"
  },
  {
   "metadata": {},
   "cell_type": "markdown",
   "source": [
    "#### Why add Store as a feature?\n",
    "- Each store likely has its own baseline sales patterns due to:\n",
    "- Location differences\n",
    "- Customer demographics\n",
    "- Local promotions\n",
    "- Competition\n",
    "👉 Therefore, ignoring the Store variable omits a major source of variance in sales.\n",
    "\n",
    "*However:*\n",
    "- Store is a categorical variable with 1,115 unique values\n",
    "- Using one-hot encoding would add 1,115 new columns → inefficient and risks overfitting\n",
    "- Tree-based models like Random Forest cannot handle string categories natively"
   ],
   "id": "d625fad27a53b0ad"
  },
  {
   "metadata": {},
   "cell_type": "markdown",
   "source": [
    "### Chosen Encoding: Target (Mean) Encoding\n",
    "We will encode Store by replacing each store ID with the average sales for that store in the training data.\n",
    "\n",
    "#### ✅ Advantages:\n",
    "- Captures store-specific sales level\n",
    "- Keeps dimensionality low (single numeric feature)\n",
    "- Easy interpretation\n",
    "- Compatible with tree-based models\n",
    "\n",
    "#### ⚠️ Risk:\n",
    "- Data leakage: using target values to encode the same rows can cause overfitting\n",
    "\n",
    "**To mitigate leakage:**\n",
    "- Ideally, we would calculate mean sales only on the training fold during cross-validation\n",
    "- ✅ Avoid data leakage from target encoding\n",
    "- ✅ Preserve an unbiased validation/test set\n",
    "\n",
    "**The solution is:**\n",
    "- → Use out-of-fold mean encoding during training\n",
    "- → Or at minimum, calculate store means only on the training set and apply those mappings to the test set.\n",
    "\n",
    "#### 📐 Why is this necessary?\n",
    "If we calculate store means on all data:\n",
    "- The encoding would “peek” at test data sales\n",
    "- Random Forest would be fitting on target information baked into features\n",
    "- Validation metrics would be overly optimistic"
   ],
   "id": "ce50c54fe63bfd43"
  },
  {
   "metadata": {},
   "cell_type": "markdown",
   "source": [
    "### 📝 Approach (no leakage):\n",
    "We split data before encoding:"
   ],
   "id": "1b50dde17d01ead9"
  },
  {
   "metadata": {
    "ExecuteTime": {
     "end_time": "2025-05-10T04:21:20.814136Z",
     "start_time": "2025-05-10T04:21:20.408522Z"
    }
   },
   "cell_type": "code",
   "source": [
    "# split BEFORE encoding\n",
    "train_data, test_data = train_test_split(data_open, test_size=0.2, random_state=42)\n",
    "\n",
    "# calculate store means only on training set\n",
    "store_means = train_data.groupby('Store')['Sales'].mean()\n",
    "\n",
    "# map means to both train and test\n",
    "train_data['StoreEncoded'] = train_data['Store'].map(store_means)\n",
    "test_data['StoreEncoded'] = test_data['Store'].map(store_means)\n",
    "\n",
    "# for stores in test not seen in train → fill with global mean\n",
    "global_mean = train_data['Sales'].mean()\n",
    "test_data['StoreEncoded'] = test_data['StoreEncoded'].fillna(global_mean)\n"
   ],
   "id": "a766bec9b81c9309",
   "outputs": [],
   "execution_count": 17
  },
  {
   "metadata": {},
   "cell_type": "markdown",
   "source": [
    "### Explanation:\n",
    "- We split the data into train and test sets before encoding.\n",
    "- We calculate the store means on the training set and apply them to both train and test sets.\n",
    "- If a store is not present in the training set, we fill it with the global mean.\n",
    "- 👉 The random_state parameter controls the random number generator that shuffles your data before splitting it.\n",
    "    - If you don’t specify random_state, every time you run the code, you’d get a different split of train and test data.\n",
    "    - But by setting random_state=42 (or any number), you’re telling Python:\n",
    "        - \"*Hey, I want the split to be random—but I want it to be the same random split every time I run this code.*\"\n",
    "    - ✅ This is key for reproducibility:\n",
    "        - You’ll get the exact same train/test sets every time you run the script.\n",
    "        - Someone else running your code (with the same random_state) will get the same results.\n",
    "    - 🧐 Why the number 42?\n",
    "        - The number 42 is just a popular in-joke from The Hitchhiker’s Guide to the Galaxy, where 42 is famously \"the answer to life, the universe, and everything.\"\n",
    "        - It could be any integer:"
   ],
   "id": "43ccd559f2c11a30"
  },
  {
   "metadata": {},
   "cell_type": "markdown",
   "source": [
    "### ✅ Now we’re clean:\n",
    "\n",
    "- StoreEncoded in train is based only on train sales\n",
    "- StoreEncoded in test does not “peek” at its own target\n",
    "- Unseen stores → fallback to global mean"
   ],
   "id": "4348699e46f3bdf4"
  },
  {
   "metadata": {},
   "cell_type": "markdown",
   "source": [
    "### 🚨 Avoiding Target Leakage in Store Encoding\n",
    "Target (mean) encoding introduces risk of data leakage when the target variable is used to encode both training and validation/test rows.\n",
    "\n",
    "👉 Therefore, we calculate Store mean sales only on the training set and map those values to the test set.\n",
    "\n",
    "If a store in the test set wasn’t seen in training, we fill it with the global mean sales from the training set."
   ],
   "id": "4dc26822eb14eeb8"
  },
  {
   "metadata": {},
   "cell_type": "markdown",
   "source": [
    "### 🚦 Quick pre-modeling readiness checklist:\n",
    "✅ 1. No missing values in features you’re feeding to the model?<br>\n",
    "→       - Make sure no features (columns) still have NaNs or missing values.<br>\n",
    "→       - You already filled StoreEncoded for test data—but check other columns too.<br>\n",
    "        - 📝 If you have missing values elsewhere, you might need to impute (mean/median) or drop those rows/columns."
   ],
   "id": "1ccec4ff385f4104"
  },
  {
   "metadata": {
    "ExecuteTime": {
     "end_time": "2025-05-10T04:21:20.882649Z",
     "start_time": "2025-05-10T04:21:20.861678Z"
    }
   },
   "cell_type": "code",
   "source": "print(train_data.isnull().sum())\n",
   "id": "13e33089d74d5988",
   "outputs": [
    {
     "name": "stdout",
     "output_type": "stream",
     "text": [
      "Date             0\n",
      "Store            0\n",
      "DayOfWeek        0\n",
      "Sales            0\n",
      "Customers        0\n",
      "Open             0\n",
      "Promo            0\n",
      "StateHoliday     0\n",
      "SchoolHoliday    0\n",
      "Month            0\n",
      "Year             0\n",
      "WeekOfYear       0\n",
      "StoreEncoded     0\n",
      "dtype: int64\n"
     ]
    }
   ],
   "execution_count": 18
  },
  {
   "metadata": {
    "ExecuteTime": {
     "end_time": "2025-05-10T04:21:20.971006Z",
     "start_time": "2025-05-10T04:21:20.963627Z"
    }
   },
   "cell_type": "code",
   "source": "",
   "id": "171d00cd9524348c",
   "outputs": [],
   "execution_count": null
  },
  {
   "metadata": {},
   "cell_type": "markdown",
   "source": [
    "✅ 2. All features numeric?\n",
    "\n",
    "- Random Forests can’t handle raw categorical data → so check if any other columns are still categorical (like strings or objects).\n",
    "- If any features are object or category types, you’ll need to encode them (one-hot encoding or another target encoding)."
   ],
   "id": "b24b498e8093f95e"
  },
  {
   "metadata": {
    "ExecuteTime": {
     "end_time": "2025-05-10T04:21:21.074833Z",
     "start_time": "2025-05-10T04:21:21.061975Z"
    }
   },
   "cell_type": "code",
   "source": "print(train_data.dtypes)\n",
   "id": "b1a0b7764352cfe7",
   "outputs": [
    {
     "name": "stdout",
     "output_type": "stream",
     "text": [
      "Date             datetime64[ns]\n",
      "Store                     int64\n",
      "DayOfWeek                 int64\n",
      "Sales                     int64\n",
      "Customers                 int64\n",
      "Open                      int64\n",
      "Promo                     int64\n",
      "StateHoliday              int64\n",
      "SchoolHoliday             int64\n",
      "Month                     int32\n",
      "Year                      int32\n",
      "WeekOfYear               UInt32\n",
      "StoreEncoded            float64\n",
      "dtype: object\n"
     ]
    }
   ],
   "execution_count": 19
  },
  {
   "metadata": {},
   "cell_type": "markdown",
   "source": [
    "#### Results\n",
    "- Date has datetime64 dtype which cannot be used in modeling\n",
    "- Date should either be transformed or dropped"
   ],
   "id": "f583f45f141153fa"
  },
  {
   "metadata": {},
   "cell_type": "markdown",
   "source": [
    "#### Random Forest can’t handle datetime columns directly. You’ve already extracted:\n",
    "\n",
    "✅ Month<br>\n",
    "✅ Year<br>\n",
    "✅ WeekOfYear<br>\n",
    "✅ DayOfWeek<br>\n",
    "\n",
    "🎯 The data has effectively already decomposed Date into its useful features.\n",
    "\n",
    "➡️ Therefore → \"Date\" can safely drop Date for modeling:"
   ],
   "id": "31f429051c78b6d3"
  },
  {
   "metadata": {},
   "cell_type": "markdown",
   "source": [
    "✅ 3. Do you have your X and y separated?\n",
    "\n",
    "Need to define your features (X) and target (y):\n",
    "- ⚠️ If test set doesn’t have Sales yet (because you’re predicting), then you won’t have y_test."
   ],
   "id": "ea375f608ebb7eab"
  },
  {
   "metadata": {
    "ExecuteTime": {
     "end_time": "2025-05-10T04:21:21.390011Z",
     "start_time": "2025-05-10T04:21:21.354917Z"
    }
   },
   "cell_type": "code",
   "source": [
    "X_train = train_data.drop(['Sales', 'Date', 'Store'], axis=1)\n",
    "y_train = train_data['Sales']\n",
    "\n",
    "X_test = test_data.drop(['Sales', 'Date', 'Store'], axis=1)  # drop same cols\n",
    "y_test = test_data['Sales']  # only if Sales exists in test set\n"
   ],
   "id": "1e8e8232a99b8df6",
   "outputs": [],
   "execution_count": 20
  },
  {
   "metadata": {},
   "cell_type": "markdown",
   "source": [
    "✅ 4. Scaling/normalization:\n",
    "\n",
    "Good news: Random Forest doesn’t require scaling or normalization.\n",
    "\n",
    "✔️ You can skip StandardScaler or MinMaxScaler → that’s a win."
   ],
   "id": "84656c2026baeb17"
  },
  {
   "metadata": {},
   "cell_type": "markdown",
   "source": [
    "✅ 5. Any weird outliers or illogical values?\n",
    "\n",
    "This step’s optional, but sometimes useful → a quick histogram or describe() check to see if there are crazy extreme values that might throw off the model."
   ],
   "id": "5c21b5ac6007e50b"
  },
  {
   "metadata": {
    "ExecuteTime": {
     "end_time": "2025-05-10T04:21:21.484801Z",
     "start_time": "2025-05-10T04:21:21.478504Z"
    }
   },
   "cell_type": "code",
   "source": "print(X_train.shape)\n",
   "id": "25b0564f828b0051",
   "outputs": [
    {
     "name": "stdout",
     "output_type": "stream",
     "text": [
      "(674785, 10)\n"
     ]
    }
   ],
   "execution_count": 21
  },
  {
   "metadata": {
    "ExecuteTime": {
     "end_time": "2025-05-10T04:51:50.383303Z",
     "start_time": "2025-05-10T04:51:12.516473Z"
    }
   },
   "cell_type": "code",
   "source": [
    "\n",
    "\n",
    "# instantiate the model\n",
    "# rf = RandomForestRegressor(random_state=42)\n",
    "rf = RandomForestRegressor(n_estimators=10, random_state=42)\n",
    "\n",
    "\n",
    "# fit the model\n",
    "rf.fit(X_train, y_train)\n",
    "\n",
    "# predict\n",
    "predict = rf.predict(X_test)\n",
    "\n",
    "# calculate metrics\n",
    "mse = mean_squared_error(y_test, predict)\n",
    "r2 = r2_score(y_test, predict)\n",
    "\n",
    "# print results\n",
    "print(f'MSE: {mse:.2f}')\n",
    "print(f\"RMSE: {np.sqrt(mse):.2f}\")\n",
    "print(f\"R^2: {r2:.4f}\")\n"
   ],
   "id": "2decdb3a9e43c622",
   "outputs": [
    {
     "name": "stdout",
     "output_type": "stream",
     "text": [
      "MSE: 443952.70\n",
      "RMSE: 666.30\n",
      "R^2: 0.9538\n"
     ]
    }
   ],
   "execution_count": 31
  },
  {
   "metadata": {},
   "cell_type": "markdown",
   "source": [
    "### Metrics:\n",
    "with:<br>\n",
    "rf = RandomForestRegressor(n_estimators=50, random_state=42)<br>\n",
    "time to execute: 3.5 min\n",
    "\n",
    "Calculated Metrics:<br>\n",
    "- MSE: 401733.90\n",
    "- RMSE: 633.82\n",
    "- R^2: 0.9582\n",
    "---\n",
    "with:<br>\n",
    "rf = RandomForestRegressor(n_estimators=100, random_state=42)<br>\n",
    "time to execute: 6.5 min\n",
    "\n",
    "Calculated Metrics:<br>\n",
    "- MSE: 396158.47\n",
    "- RMSE: 629.41\n",
    "- R^2: 0.9588\n",
    "\n",
    "---\n",
    "with:<br>\n",
    "rf = RandomForestRegressor(n_estimators=30, random_state=42)<br>\n",
    "time to execute: 1 min 49 sec\n",
    "\n",
    "Calculated Metrics:<br>\n",
    "MSE: 409439.60<br>\n",
    "RMSE: 639.87<br>\n",
    "R^2: 0.9574\n",
    "\n",
    "---\n",
    "\n",
    "with:<br>\n",
    "rf = RandomForestRegressor(n_estimators=20, random_state=42)<br>\n",
    "time to execute: 1 min 49 sec\n",
    "\n",
    "Calculated Metrics:<br>\n",
    "MSE: 422443.78<br>\n",
    "RMSE: 649.96<br>\n",
    "R^2: 0.9560\n",
    "\n",
    "---\n",
    "\n",
    "with:<br>\n",
    "rf = RandomForestRegressor(n_estimators=10, random_state=42)<br>\n",
    "time to execute: 1 min 49 sec\n",
    "\n",
    "Calculated Metrics:<br>\n",
    "\n"
   ],
   "id": "15cf2f5e7bd75f1b"
  },
  {
   "metadata": {
    "ExecuteTime": {
     "end_time": "2025-05-10T04:24:29.784778Z",
     "start_time": "2025-05-10T04:24:29.778005Z"
    }
   },
   "cell_type": "code",
   "source": [
    "print(f\"X_train shape: {X_train.shape}\")\n",
    "print(f\"X_test shape: {X_test.shape}\")\n",
    "print(f\"y_train shape: {y_train.shape}\")\n",
    "print(f\"y_test shape: {y_test.shape}\")\n"
   ],
   "id": "30ee7090f5ba1834",
   "outputs": [
    {
     "name": "stdout",
     "output_type": "stream",
     "text": [
      "X_train shape: (674785, 10)\n",
      "X_test shape: (168697, 10)\n",
      "y_train shape: (674785,)\n",
      "y_test shape: (168697,)\n"
     ]
    }
   ],
   "execution_count": 23
  },
  {
   "metadata": {
    "ExecuteTime": {
     "end_time": "2025-05-10T04:24:29.939384Z",
     "start_time": "2025-05-10T04:24:29.931785Z"
    }
   },
   "cell_type": "code",
   "source": [
    "print(\"Sample predictions:\", predict[:5])\n",
    "print(\"Actual values:\", y_test[:5])\n"
   ],
   "id": "a103a9f3cd89b3a6",
   "outputs": [
    {
     "name": "stdout",
     "output_type": "stream",
     "text": [
      "Sample predictions: [7833.8  5800.04 9690.82 9788.06 8364.96]\n",
      "Actual values: 23193     7560\n",
      "98710     6286\n",
      "188103    8475\n",
      "653632    9507\n",
      "499190    8081\n",
      "Name: Sales, dtype: int64\n"
     ]
    }
   ],
   "execution_count": 24
  },
  {
   "metadata": {
    "ExecuteTime": {
     "end_time": "2025-05-10T04:38:45.968868Z",
     "start_time": "2025-05-10T04:24:30.045566Z"
    }
   },
   "cell_type": "code",
   "source": [
    "\n",
    "cv_r2 = cross_val_score(rf, X_train, y_train, cv=5, scoring='r2')\n",
    "print(f\"Cross-validated R²: {cv_r2.mean():.4f}\")\n"
   ],
   "id": "81da3ffbf5c8440",
   "outputs": [
    {
     "name": "stdout",
     "output_type": "stream",
     "text": [
      "Cross-validated R²: 0.9555\n"
     ]
    }
   ],
   "execution_count": 25
  },
  {
   "metadata": {},
   "cell_type": "markdown",
   "source": [
    "#### Discussion:\n",
    "- Linear regression: R^2 = 0.14\n",
    "- Random Forest with 5 trees: R^2 = 0.9456\n",
    "- Random Forest with 20 trees: R^2 = 0.9560\n",
    "- Random Forest with 100 trees: R^2 = 0.9588\n",
    "- Random Forest with 30 trees: R^2 = 0.9574\n",
    "- Random Forest with 50 trees: R^2 = 0.9582\n",
    "- Linear Regression with Polynomial Features: R^2 = 0.8514\n",
    "\n",
    "What this means?\n",
    "- Linear regression is not a good model for this data\n",
    "- Random Forest with 5 trees is a good model for this data\n",
    "- Random Forest with 20 trees is a good model for this data\n",
    "- Random Forest with 50 trees is a good model for this data\n",
    "- The data is not a straight line, which is apparent by the R^2 value moving from 0.14 to 0.85.\n",
    "- Though 5 trees is a good fit, for production the recommendation is 50 trees.\n",
    "- The rapid convergence of R² from 5 → 50 trees indicates a highly learnable dataset with strong predictor-target relationships, allowing even small ensembles to achieve near-optimal performance.\n",
    "- The gap between linear (0.14) and polynomial regression (0.85) confirms underlying non-linear patterns that are better captured by flexible, non-parametric methods like Random Forest.\n",
    "- While 5 trees perform well, increasing to 50+ trees ensures greater prediction stability and reduces sensitivity to sampling variance—making it a more robust production choice."
   ],
   "id": "eafb82a9297e383b"
  },
  {
   "metadata": {
    "ExecuteTime": {
     "end_time": "2025-05-10T04:39:11.198952Z",
     "start_time": "2025-05-10T04:39:06.762963Z"
    }
   },
   "cell_type": "code",
   "source": [
    "\n",
    "\n",
    "\n",
    "# Transform training data\n",
    "poly = PolynomialFeatures(degree=2, include_bias=False)\n",
    "X_poly = poly.fit_transform(X_train)\n",
    "\n",
    "# Fit model\n",
    "lr = LinearRegression()\n",
    "lr.fit(X_poly, y_train)\n",
    "\n",
    "# Predict on test data\n",
    "X_test_poly = poly.transform(X_test)\n",
    "y_pred = lr.predict(X_test_poly)\n",
    "\n",
    "# Calculate metrics\n",
    "r2_poly = lr.score(X_test_poly, y_test)\n",
    "mse = mean_squared_error(y_test, y_pred)\n",
    "rmse = np.sqrt(mse)\n",
    "\n",
    "# Print results\n",
    "print(f'Poly R²: {r2_poly:.4f}')\n",
    "print(f'MSE: {mse:.4f}')\n",
    "print(f'RMSE: {rmse:.4f}')\n",
    "\n"
   ],
   "id": "e8c314c174259352",
   "outputs": [
    {
     "name": "stdout",
     "output_type": "stream",
     "text": [
      "Poly R²: 0.8514\n",
      "MSE: 1427158.7358\n",
      "RMSE: 1194.6375\n"
     ]
    }
   ],
   "execution_count": 30
  },
  {
   "metadata": {},
   "cell_type": "markdown",
   "source": [
    "## Summary of Model Performance\n",
    "\n",
    "The Random Forest model predicts sales with an average error of ±630 units and explains 95.8% of sales variation across stores. Increasing tree count past 50 yields minimal gains but substantially increases compute time."
   ],
   "id": "57b51a1bddba40d8"
  },
  {
   "metadata": {
    "ExecuteTime": {
     "end_time": "2025-05-10T04:38:50.778144Z",
     "start_time": "2025-05-10T04:38:50.775080Z"
    }
   },
   "cell_type": "code",
   "source": "",
   "id": "e5fae2f3fe07bd32",
   "outputs": [],
   "execution_count": null
  },
  {
   "metadata": {},
   "cell_type": "markdown",
   "source": "## Save Model",
   "id": "b8c3233fc62af201"
  },
  {
   "metadata": {
    "ExecuteTime": {
     "end_time": "2025-05-10T04:39:00.197822Z",
     "start_time": "2025-05-10T04:38:50.900467Z"
    }
   },
   "cell_type": "code",
   "source": [
    "# save model\n",
    "joblib.dump((rf, X_train.columns.tolist()), '../data/trained/random_forest_model_with_features.pkl')\n",
    "\n"
   ],
   "id": "5eb85c25c5c13599",
   "outputs": [
    {
     "data": {
      "text/plain": [
       "['../data/trained/random_forest_model_with_features.pkl']"
      ]
     },
     "execution_count": 27,
     "metadata": {},
     "output_type": "execute_result"
    }
   ],
   "execution_count": 27
  },
  {
   "metadata": {
    "ExecuteTime": {
     "end_time": "2025-05-10T04:39:01.220677Z",
     "start_time": "2025-05-10T04:39:00.284467Z"
    }
   },
   "cell_type": "code",
   "source": [
    "# Save test features and labels to CSV for visualization notebook\n",
    "X_test.to_csv('../data/trained/X_test.csv', index=False)\n",
    "y_test.to_csv('../data/trained/y_test.csv', index=False)\n"
   ],
   "id": "b8ea1b367a5dfb65",
   "outputs": [],
   "execution_count": 28
  },
  {
   "metadata": {
    "ExecuteTime": {
     "end_time": "2025-05-10T04:39:01.283819Z",
     "start_time": "2025-05-10T04:39:01.280837Z"
    }
   },
   "cell_type": "code",
   "source": "",
   "id": "a399e7ef0f59bbff",
   "outputs": [],
   "execution_count": null
  }
 ],
 "metadata": {
  "kernelspec": {
   "display_name": "Python 3",
   "language": "python",
   "name": "python3"
  },
  "language_info": {
   "codemirror_mode": {
    "name": "ipython",
    "version": 2
   },
   "file_extension": ".py",
   "mimetype": "text/x-python",
   "name": "python",
   "nbconvert_exporter": "python",
   "pygments_lexer": "ipython2",
   "version": "2.7.6"
  }
 },
 "nbformat": 4,
 "nbformat_minor": 5
}
