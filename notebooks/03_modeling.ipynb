{
 "cells": [
  {
   "metadata": {},
   "cell_type": "markdown",
   "source": [
    "# 📈 Elasticity Project: Model Summary\n",
    "\n",
    "This model focuses on **Price Elasticity of Demand (PED)** and its effect on total revenue. It allows users to explore how changes in price influence quantity demanded and overall sales performance.\n",
    "\n",
    "## ✅ **Key Components:**\n",
    "\n",
    "1. **Price Elasticity of Demand (PED) Calculation**\n",
    "\n",
    "   The elasticity is calculated using the midpoint formula to provide stable and realistic elasticity estimates:\n",
    "\n",
    "   $$\n",
    "   E_d = \\frac{\\frac{Q_2 - Q_1}{(Q_2 + Q_1)/2}}{\\frac{P_2 - P_1}{(P_2 + P_1)/2}}\n",
    "   $$\n",
    "\n",
    "   Where:\n",
    "   - \\( Q_1 \\), \\( Q_2 \\) = Original and new quantity demanded.\n",
    "   - \\( P_1 \\), \\( P_2 \\) = Original and new price.\n",
    "\n",
    "2. **Elasticity Classification**\n",
    "\n",
    "   The model classifies elasticity as:\n",
    "   - **Elastic** if \\( E_d > 1 \\)\n",
    "   - **Inelastic** if \\( E_d < 1 \\)\n",
    "   - **Unitary Elastic** if \\( E_d = 1 \\)\n",
    "\n",
    "3. **Revenue Impact Calculation**\n",
    "\n",
    "   We calculate **Total Revenue (TR)** before and after the price change:\n",
    "\n",
    "   $$\n",
    "   TR_1 = P_1 \\times Q_1\n",
    "   $$\n",
    "\n",
    "   $$\n",
    "   TR_2 = P_2 \\times Q_2\n",
    "   $$\n",
    "\n",
    "   The **change in revenue** is expressed as:\n",
    "\n",
    "   $$\n",
    "   \\Delta TR = TR_2 - TR_1\n",
    "   $$\n",
    "\n",
    "4. **Visualizations**\n",
    "\n",
    "   - **Demand Curve Plot:**\n",
    "     Shows the demand curve shifting based on user input.\n",
    "   - **Revenue Comparison:**\n",
    "     Displays side-by-side revenue before and after the price change.\n",
    "\n",
    "5. **User Inputs (via Sliders):**\n",
    "   - Initial price (\\( P_1 \\))\n",
    "   - Initial quantity (\\( Q_1 \\))\n",
    "   - % change in price (\\( \\%\\Delta P \\))\n",
    "\n",
    "6. **Output:**\n",
    "   - New price & quantity estimates.\n",
    "   - Elasticity classification (with interpretation).\n",
    "   - Revenue before & after (with impact summary).\n",
    "   - Interactive graph updates in real-time.\n"
   ],
   "id": "2fe5897a6d996bdf"
  },
  {
   "metadata": {
    "ExecuteTime": {
     "end_time": "2025-05-04T07:20:39.025523Z",
     "start_time": "2025-05-04T07:20:39.019113Z"
    }
   },
   "cell_type": "code",
   "source": "import pandas as pd",
   "id": "5b1ab86a2f59194d",
   "outputs": [],
   "execution_count": 9
  },
  {
   "cell_type": "code",
   "id": "initial_id",
   "metadata": {
    "collapsed": true,
    "ExecuteTime": {
     "end_time": "2025-05-04T07:20:39.595438Z",
     "start_time": "2025-05-04T07:20:39.090768Z"
    }
   },
   "source": "processed_data = pd.read_csv('../data/processed/processed_data.csv')",
   "outputs": [],
   "execution_count": 10
  },
  {
   "metadata": {},
   "cell_type": "markdown",
   "source": "## ✅ Check data is clean",
   "id": "67c138ebdd69bed9"
  },
  {
   "metadata": {
    "ExecuteTime": {
     "end_time": "2025-05-04T07:20:39.680486Z",
     "start_time": "2025-05-04T07:20:39.618123Z"
    }
   },
   "cell_type": "code",
   "source": "processed_data.info()",
   "id": "779496c7a7baea",
   "outputs": [
    {
     "name": "stdout",
     "output_type": "stream",
     "text": [
      "<class 'pandas.core.frame.DataFrame'>\n",
      "RangeIndex: 843482 entries, 0 to 843481\n",
      "Data columns (total 9 columns):\n",
      " #   Column         Non-Null Count   Dtype \n",
      "---  ------         --------------   ----- \n",
      " 0   Date           843482 non-null  object\n",
      " 1   Store          843482 non-null  int64 \n",
      " 2   DayOfWeek      843482 non-null  int64 \n",
      " 3   Sales          843482 non-null  int64 \n",
      " 4   Customers      843482 non-null  int64 \n",
      " 5   Open           843482 non-null  int64 \n",
      " 6   Promo          843482 non-null  int64 \n",
      " 7   StateHoliday   843482 non-null  int64 \n",
      " 8   SchoolHoliday  843482 non-null  int64 \n",
      "dtypes: int64(8), object(1)\n",
      "memory usage: 57.9+ MB\n"
     ]
    }
   ],
   "execution_count": 11
  },
  {
   "metadata": {
    "ExecuteTime": {
     "end_time": "2025-05-04T07:20:39.704892Z",
     "start_time": "2025-05-04T07:20:39.701087Z"
    }
   },
   "cell_type": "code",
   "source": "",
   "id": "808d072d5c26bc5b",
   "outputs": [],
   "execution_count": null
  }
 ],
 "metadata": {
  "kernelspec": {
   "display_name": "Python 3",
   "language": "python",
   "name": "python3"
  },
  "language_info": {
   "codemirror_mode": {
    "name": "ipython",
    "version": 2
   },
   "file_extension": ".py",
   "mimetype": "text/x-python",
   "name": "python",
   "nbconvert_exporter": "python",
   "pygments_lexer": "ipython2",
   "version": "2.7.6"
  }
 },
 "nbformat": 4,
 "nbformat_minor": 5
}
