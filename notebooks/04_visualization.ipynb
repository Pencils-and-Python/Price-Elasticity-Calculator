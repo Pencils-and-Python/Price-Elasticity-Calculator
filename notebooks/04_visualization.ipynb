{
 "cells": [
  {
   "metadata": {},
   "cell_type": "markdown",
   "source": [
    "### 🚩 Quick checklist for visualization notebook:\n",
    "✅ Load the saved train/test data from modeling notebook<br>\n",
    "✅ Or rerun train_test_split with same random_state for reproducibility<br>\n",
    "✅ Load trained model if saved (joblib.load() or .pickle)<br>\n",
    "✅ Or retrain quickly with saved parameters (like n_estimators=50, random_state=42)"
   ],
   "id": "d58a35e129fdb78c"
  },
  {
   "cell_type": "code",
   "id": "initial_id",
   "metadata": {
    "collapsed": true,
    "ExecuteTime": {
     "end_time": "2025-05-09T02:59:40.065103Z",
     "start_time": "2025-05-09T02:59:39.622045Z"
    }
   },
   "source": [
    "# 📦 Import packages\n",
    "import pandas as pd\n",
    "import numpy as np\n",
    "import joblib\n",
    "import matplotlib.pyplot as plt\n",
    "import seaborn as sns\n",
    "\n",
    "from sklearn.ensemble import RandomForestRegressor\n",
    "from sklearn.linear_model import LinearRegression\n",
    "from sklearn.preprocessing import PolynomialFeatures\n",
    "from sklearn.metrics import r2_score, mean_squared_error\n",
    "\n",
    "# 🖼️ Set plot style\n",
    "sns.set(style='whitegrid', palette='muted', font_scale=1.2)\n",
    "\n",
    "# ✅ Optional: Inline plots\n",
    "%matplotlib inline\n"
   ],
   "outputs": [],
   "execution_count": 2
  },
  {
   "metadata": {
    "ExecuteTime": {
     "end_time": "2025-05-09T02:59:56.191374Z",
     "start_time": "2025-05-09T02:59:49.532994Z"
    }
   },
   "cell_type": "code",
   "source": "rf_loaded, feature_names = joblib.load('../data/trained/random_forest_model_with_features.pkl')\n",
   "id": "81e0bb92ae339632",
   "outputs": [],
   "execution_count": 3
  },
  {
   "metadata": {},
   "cell_type": "code",
   "outputs": [],
   "execution_count": null,
   "source": "",
   "id": "ad3bdccbedbdcd44"
  }
 ],
 "metadata": {
  "kernelspec": {
   "display_name": "Python 3",
   "language": "python",
   "name": "python3"
  },
  "language_info": {
   "codemirror_mode": {
    "name": "ipython",
    "version": 2
   },
   "file_extension": ".py",
   "mimetype": "text/x-python",
   "name": "python",
   "nbconvert_exporter": "python",
   "pygments_lexer": "ipython2",
   "version": "2.7.6"
  }
 },
 "nbformat": 4,
 "nbformat_minor": 5
}
