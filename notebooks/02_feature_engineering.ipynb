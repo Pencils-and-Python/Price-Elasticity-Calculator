{
 "cells": [
  {
   "metadata": {},
   "cell_type": "markdown",
   "source": [
    "\n",
    "# 📊 Elasticity Project — Phase 2: Data Cleaning and Feature Engineering\n",
    "\n",
    "---\n",
    "\n",
    "## 📝 Purpose of this Notebook\n",
    "\n",
    "This notebook initiates **Phase 2** of the elasticity modeling project:\n",
    "- Clean the raw dataset after initial exploration\n",
    "- Engineer features necessary for elasticity regression modeling\n",
    "- Prepare a finalized dataset ready for modeling\n",
    "\n",
    "---\n",
    "\n",
    "## 📚 Tasks Covered\n",
    "\n",
    "- Remove zero-sales observations to avoid skewing elasticity\n",
    "- Create log-transformed sales feature (`Log_Sales`)\n",
    "- Engineer promotional flags and seasonal features (Month, Weekday, Year)\n",
    "- Output a clean dataset for modeling\n",
    "\n",
    "---\n",
    "\n",
    "## 🔥 Next Steps After This Notebook\n",
    "\n",
    "- Model log-sales as a function of price and promotions\n",
    "- Estimate price elasticity across stores and products\n",
    "- Build a Streamlit dashboard to visualize elasticity curves\n",
    "\n",
    "---\n",
    "\n",
    "## 🚀 Let's Get Started!"
   ],
   "id": "5a8a794e1601ed47"
  },
  {
   "metadata": {
    "ExecuteTime": {
     "end_time": "2025-04-27T18:15:33.673016Z",
     "start_time": "2025-04-27T18:15:33.667261Z"
    }
   },
   "cell_type": "code",
   "source": [
    "# 📚 Import necessary libraries\n",
    "\n",
    "import pandas as pd\n",
    "import numpy as np\n",
    "import matplotlib.pyplot as plt\n",
    "import seaborn as sns\n",
    "\n",
    "# 🏗️ Set some basic visual configs\n",
    "plt.style.use('seaborn-v0_8-whitegrid')\n",
    "sns.set_context('talk')\n"
   ],
   "id": "49733d21e4353f89",
   "outputs": [],
   "execution_count": 1
  },
  {
   "metadata": {
    "ExecuteTime": {
     "end_time": "2025-04-27T19:36:57.438644Z",
     "start_time": "2025-04-27T19:36:55.663724Z"
    }
   },
   "cell_type": "code",
   "source": [
    "# Load exploration-cleaned dataset\n",
    "train_df2 = pd.read_csv(\n",
    "    '../data/processed/train_df_exploration_clean.csv',\n",
    "    index_col=0,\n",
    "    parse_dates=['Date'],\n",
    "    on_bad_lines='skip',\n",
    "    low_memory=False\n",
    ")\n",
    "\n",
    "# After loading, still good practice:\n",
    "train_df2['Date'] = pd.to_datetime(train_df2['Date'], errors='coerce')\n",
    "\n"
   ],
   "id": "58cc3926e1c9f659",
   "outputs": [],
   "execution_count": 5
  },
  {
   "metadata": {},
   "cell_type": "code",
   "outputs": [],
   "execution_count": null,
   "source": "",
   "id": "9475746944ad916b"
  }
 ],
 "metadata": {
  "kernelspec": {
   "display_name": "Python 3",
   "language": "python",
   "name": "python3"
  },
  "language_info": {
   "codemirror_mode": {
    "name": "ipython",
    "version": 2
   },
   "file_extension": ".py",
   "mimetype": "text/x-python",
   "name": "python",
   "nbconvert_exporter": "python",
   "pygments_lexer": "ipython2",
   "version": "2.7.6"
  }
 },
 "nbformat": 4,
 "nbformat_minor": 5
}
