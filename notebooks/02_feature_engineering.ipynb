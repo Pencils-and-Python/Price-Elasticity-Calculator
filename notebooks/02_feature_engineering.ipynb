{
 "cells": [
  {
   "metadata": {},
   "cell_type": "markdown",
   "source": [
    "\n",
    "# 📊 Elasticity Project — Phase 2: Data Cleaning and Feature Engineering\n",
    "\n",
    "---\n",
    "\n",
    "## 📝 Purpose of this Notebook\n",
    "\n",
    "This notebook initiates **Phase 2** of the elasticity modeling project:\n",
    "- Clean the raw dataset after initial exploration\n",
    "- Engineer features necessary for elasticity regression modeling\n",
    "- Prepare a finalized dataset ready for modeling\n",
    "\n",
    "---\n",
    "\n",
    "## 📚 Tasks Covered\n",
    "\n",
    "- Remove zero-sales observations to avoid skewing elasticity\n",
    "- Create log-transformed sales feature (`Log_Sales`)\n",
    "- Engineer promotional flags and seasonal features (Month, Weekday, Year)\n",
    "- Output a clean dataset for modeling\n",
    "\n",
    "---\n",
    "\n",
    "## 🔥 Next Steps After This Notebook\n",
    "\n",
    "- Model log-sales as a function of price and promotions\n",
    "- Estimate price elasticity across stores and products\n",
    "- Build a Streamlit dashboard to visualize elasticity curves\n",
    "\n",
    "---\n",
    "\n",
    "## 🚀 Let's Get Started!"
   ],
   "id": "5a8a794e1601ed47"
  },
  {
   "metadata": {
    "ExecuteTime": {
     "end_time": "2025-04-27T18:15:33.673016Z",
     "start_time": "2025-04-27T18:15:33.667261Z"
    }
   },
   "cell_type": "code",
   "source": [
    "# 📚 Import necessary libraries\n",
    "\n",
    "import pandas as pd\n",
    "import numpy as np\n",
    "import matplotlib.pyplot as plt\n",
    "import seaborn as sns\n",
    "\n",
    "# 🏗️ Set some basic visual configs\n",
    "plt.style.use('seaborn-v0_8-whitegrid')\n",
    "sns.set_context('talk')\n"
   ],
   "id": "49733d21e4353f89",
   "outputs": [],
   "execution_count": 1
  },
  {
   "metadata": {
    "ExecuteTime": {
     "end_time": "2025-04-27T19:36:57.438644Z",
     "start_time": "2025-04-27T19:36:55.663724Z"
    }
   },
   "cell_type": "code",
   "source": [
    "# Load exploration-cleaned dataset\n",
    "train_df2 = pd.read_csv(\n",
    "    '../data/processed/train_df_exploration_clean.csv',\n",
    "    index_col=0,\n",
    "    parse_dates=['Date'],\n",
    "    on_bad_lines='skip',\n",
    "    low_memory=False\n",
    ")\n",
    "\n",
    "# After loading, still good practice:\n",
    "train_df2['Date'] = pd.to_datetime(train_df2['Date'], errors='coerce')\n",
    "\n"
   ],
   "id": "58cc3926e1c9f659",
   "outputs": [],
   "execution_count": 5
  },
  {
   "metadata": {},
   "cell_type": "markdown",
   "source": [
    "## 🚦 Step 1: Validate Date Column and Index\n",
    "### Check Date column is:\n",
    "- Actually parsed as datetime64\n",
    "- Set as the index properly (or ready to be if needed)\n",
    "- In ascending order (important for any time series modeling later)"
   ],
   "id": "735f3af02195b7be"
  },
  {
   "metadata": {
    "ExecuteTime": {
     "end_time": "2025-04-27T20:24:37.129172Z",
     "start_time": "2025-04-27T20:24:37.107526Z"
    }
   },
   "cell_type": "code",
   "source": [
    "# Check the Date column type\n",
    "print(\"Column type: \", train_df2.index.dtype)\n",
    "\n",
    "# Check if it's sorted\n",
    "print(\"Data sorted: \", train_df2.index.is_monotonic_increasing)\n",
    "\n",
    "# Display a sample\n",
    "print(\"Head sample: \\n\", train_df2.head(3))\n"
   ],
   "id": "230abf7ed1eefe8f",
   "outputs": [
    {
     "name": "stdout",
     "output_type": "stream",
     "text": [
      "Column type:  int64\n",
      "Data sorted:  True\n",
      "Head sample: \n",
      "    Store  DayOfWeek       Date  Sales  Customers  Open  Promo StateHoliday  \\\n",
      "0      1          5 2015-07-31   5263        555     1      1            0   \n",
      "1      2          5 2015-07-31   6064        625     1      1            0   \n",
      "2      3          5 2015-07-31   8314        821     1      1            0   \n",
      "\n",
      "   SchoolHoliday  \n",
      "0              1  \n",
      "1              1  \n",
      "2              1  \n"
     ]
    }
   ],
   "execution_count": 6
  },
  {
   "metadata": {},
   "cell_type": "markdown",
   "source": [
    "### Results of above checks:\n",
    "- Data Sorted:  Good\n",
    "- Head of sample data:  Looks reasonable\n",
    "- Column dtype as int64:  Needs to be addressed\n",
    "    - Index is still just row numbers (int64) — not the Date column.\n",
    "    - Right now Date is just a regular column, not the index."
   ],
   "id": "a19105aad2c97803"
  },
  {
   "metadata": {},
   "cell_type": "markdown",
   "source": [
    "## 🎯 Next Step:\n",
    "- Convert the Date column into the actual DataFrame index."
   ],
   "id": "2ba07fc357397d3d"
  },
  {
   "metadata": {
    "ExecuteTime": {
     "end_time": "2025-04-27T21:50:37.834811Z",
     "start_time": "2025-04-27T21:50:37.646522Z"
    }
   },
   "cell_type": "code",
   "source": [
    "# Set the Date column as the index\n",
    "train_df2['Date'] = pd.to_datetime(train_df2['Date'], errors='coerce')\n",
    "train_df2 = train_df2.set_index('Date')\n",
    "\n",
    "# Confirm it worked\n",
    "print(\"Column type after setting index: \", train_df2.index.dtype)\n",
    "print(\"Data sorted: \", train_df2.index.is_monotonic_increasing)\n",
    "print(\"Head sample: \\n\", train_df2.head(3))\n"
   ],
   "id": "84fb77283e950f7c",
   "outputs": [
    {
     "name": "stdout",
     "output_type": "stream",
     "text": [
      "Column type after setting index:  datetime64[ns]\n",
      "Data sorted:  False\n",
      "Head sample: \n",
      "             Store  DayOfWeek  Sales  Customers  Open  Promo StateHoliday  \\\n",
      "Date                                                                       \n",
      "2015-07-31      1          5   5263        555     1      1            0   \n",
      "2015-07-31      2          5   6064        625     1      1            0   \n",
      "2015-07-31      3          5   8314        821     1      1            0   \n",
      "\n",
      "            SchoolHoliday  \n",
      "Date                       \n",
      "2015-07-31              1  \n",
      "2015-07-31              1  \n",
      "2015-07-31              1  \n"
     ]
    }
   ],
   "execution_count": 7
  },
  {
   "metadata": {},
   "cell_type": "markdown",
   "source": [
    "### Checks:\n",
    "- Data is **NOT** monotonic.\n",
    "- Data is showing to have sale dates on the same day at different stores.\n",
    "- Date index has repeats"
   ],
   "id": "f165b361c2bfea1b"
  },
  {
   "metadata": {},
   "cell_type": "markdown",
   "source": [
    "## 🎯 Next Step:\n",
    "- Start checking for nulls, infinities, weird values across the dataset.\n",
    "- Perform a \"Data Health Check\"."
   ],
   "id": "dad6c3f8f80b2d6a"
  },
  {
   "metadata": {},
   "cell_type": "markdown",
   "source": [
    "## 🎯 Data Health Check:\n",
    "✅ 1. Check for NaNs<br>\n",
    "✅ 2. Check for infinite values<br>\n",
    "✅ 3. Check data types<br>\n",
    "✅ 4. Check for duplicates<br>"
   ],
   "id": "8f4800049d59a856"
  },
  {
   "metadata": {
    "ExecuteTime": {
     "end_time": "2025-04-27T23:33:33.518122Z",
     "start_time": "2025-04-27T23:33:32.677500Z"
    }
   },
   "cell_type": "code",
   "source": [
    "# 1. Check for missing values\n",
    "print(\"Missing Values Per Column:\")\n",
    "print(train_df2.isnull().sum())\n",
    "print(\"-\" * 50)\n",
    "\n",
    "# 2. Check for infinite values\n",
    "# Only check numeric columns for infinities\n",
    "numeric_cols = train_df2.select_dtypes(include=['number'])\n",
    "\n",
    "print(\"Any Infinite Values in Numeric Columns?\")\n",
    "print(np.isinf(numeric_cols).values.any())\n",
    "\n",
    "# 3. Check data types\n",
    "print(\"Data Types Overview:\")\n",
    "print(train_df2.dtypes)\n",
    "print(\"-\" * 50)\n",
    "\n",
    "# 4. Check for duplicate rows\n",
    "print(\"Number of Duplicate Rows:\")\n",
    "print(train_df2.duplicated().sum())\n"
   ],
   "id": "8645be390f111bde",
   "outputs": [
    {
     "name": "stdout",
     "output_type": "stream",
     "text": [
      "Missing Values Per Column:\n",
      "Store            0\n",
      "DayOfWeek        0\n",
      "Sales            0\n",
      "Customers        0\n",
      "Open             0\n",
      "Promo            0\n",
      "StateHoliday     0\n",
      "SchoolHoliday    0\n",
      "dtype: int64\n",
      "--------------------------------------------------\n",
      "Any Infinite Values in Numeric Columns?\n",
      "False\n",
      "Data Types Overview:\n",
      "Store             int64\n",
      "DayOfWeek         int64\n",
      "Sales             int64\n",
      "Customers         int64\n",
      "Open              int64\n",
      "Promo             int64\n",
      "StateHoliday     object\n",
      "SchoolHoliday     int64\n",
      "dtype: object\n",
      "--------------------------------------------------\n",
      "Number of Duplicate Rows:\n",
      "154077\n"
     ]
    }
   ],
   "execution_count": 10
  },
  {
   "metadata": {},
   "cell_type": "markdown",
   "source": [
    "## 🔥 Professional Tip:\n",
    "- To perform mathy checks (isinf, isnan, outliers, etc.) on a dataframe:\n",
    "- Always .select_dtypes(include='number') first.\n",
    "- Avoid string columns unless you are text-processing on purpose."
   ],
   "id": "21f16c3328a07d9d"
  },
  {
   "metadata": {},
   "cell_type": "markdown",
   "source": [
    "## 🏥 Diagnostics of Data Health Check\n",
    "\n",
    "### 🧠 Summary of Checks:\n",
    "\n",
    "| Check | Result | Verdict |\n",
    "|------|--------|---------|\n",
    "| Missing Values | 0 | ✅ Excellent |\n",
    "| Infinite Values | False | ✅ Perfect |\n",
    "| Data Types | Mostly Correct (minor note on `StateHoliday`) | ⚡ Flagged for later |\n",
    "| Duplicate Rows | 154,077 | ⚡ Needs Investigation |\n",
    "\n",
    "---\n",
    "\n",
    "### 📚 Detailed Analysis:\n",
    "\n",
    "#### ✅ 1. Missing Values\n",
    "- **No NaNs** detected across any columns.\n",
    "- **Verdict:** No immediate action needed.\n",
    "\n",
    "---\n",
    "\n",
    "#### ✅ 2. Infinite Values\n",
    "- No `inf` or `-inf` values detected in numeric columns.\n",
    "- **Verdict:** Safe to proceed.\n",
    "\n",
    "---\n",
    "\n",
    "#### ⚡ 3. Data Types\n",
    "| Column | Data Type | Issue? |\n",
    "|--------|-----------|--------|\n",
    "| Store | int64 | No issues |\n",
    "| DayOfWeek | int64 | No issues |\n",
    "| Sales | int64 | No issues |\n",
    "| Customers | int64 | No issues |\n",
    "| Open | int64 | No issues |\n",
    "| Promo | int64 | No issues |\n",
    "| StateHoliday | object | ⚡ Flagged: Should be properly encoded |\n",
    "| SchoolHoliday | int64 | No issues |\n",
    "\n",
    "- `StateHoliday` is stored as an object type (`'0'`, `'a'`, `'b'`, `'c'`).\n",
    "- This is normal for this dataset but should be **properly encoded** later during preprocessing.\n",
    "\n",
    "---\n",
    "\n",
    "#### ⚡ 4. Duplicate Rows\n",
    "- **154,077 duplicate rows detected.**\n",
    "- Next Step: **Investigate** whether these are:\n",
    "  - Accidental duplicates (need removal)\n",
    "  - Legitimate multi-store entries (keep or modify)\n",
    "\n",
    "**Verdict:** Investigation required before making changes.\n",
    "\n",
    "---\n",
    "\n",
    "### 📋 Professional Path Forward:\n",
    "\n",
    "| Task | Action |\n",
    "|-----|--------|\n",
    "| `StateHoliday` object type | Flag for later encoding |\n",
    "| Duplicate rows | Investigate and assess before removal |\n",
    "| All other checks | ✅ Green light to proceed |\n",
    "\n",
    "---\n",
    "\n",
    "## 🚀 Notes:\n",
    "\n",
    "- **You are building this project like a real-world data scientist.**\n",
    "- **Data cleaning decisions will be carefully documented for full transparency.**\n",
    "- **No blind assumptions. Every step is defendable for peer review.**\n"
   ],
   "id": "d79bdff172a8ac7c"
  },
  {
   "metadata": {},
   "cell_type": "code",
   "outputs": [],
   "execution_count": null,
   "source": "",
   "id": "6686c15de93a14d9"
  }
 ],
 "metadata": {
  "kernelspec": {
   "display_name": "Python 3",
   "language": "python",
   "name": "python3"
  },
  "language_info": {
   "codemirror_mode": {
    "name": "ipython",
    "version": 2
   },
   "file_extension": ".py",
   "mimetype": "text/x-python",
   "name": "python",
   "nbconvert_exporter": "python",
   "pygments_lexer": "ipython2",
   "version": "2.7.6"
  }
 },
 "nbformat": 4,
 "nbformat_minor": 5
}
