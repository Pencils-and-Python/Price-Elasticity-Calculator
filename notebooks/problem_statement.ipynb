{
 "cells": [
  {
   "metadata": {},
   "cell_type": "markdown",
   "source": [
    "# 📈 Price Elasticity of Demand — A Data-Driven Exploration\n",
    "\n",
    "## 🔍 Background\n",
    "\n",
    "In both economics and engineering applications, understanding how **demand responds to changes in price** is critical for decision-making. This concept is formally known as **price elasticity of demand**.\n",
    "\n",
    "Elasticity is a core principle used in:\n",
    "\n",
    "- 🛒 **Retail**: Optimizing prices to maximize revenue.\n",
    "- 🚗 **Transportation**: Estimating usage changes with toll adjustments.\n",
    "- ⚡ **Utilities**: Forecasting demand after rate hikes.\n",
    "- 🏗️ **Municipal Engineering**: Planning public resource allocation, such as water pricing or stormwater utility fees.\n",
    "\n",
    "The formula for price elasticity of demand is:\n",
    "\n",
    "%%\n",
    "$$\n",
    "\\text{Elasticity} = \\frac{\\%\\ \\text{change in quantity demanded}}{\\%\\ \\text{change in price}}\n",
    "%%\n",
    "$$\n",
    "\n",
    "Interpretation of elasticity values:\n",
    "- **Elastic** (|E| > 1): Quantity responds more than price.\n",
    "- **Inelastic** (|E| < 1): Quantity responds less than price.\n",
    "- **Unit Elastic** (|E| = 1): Quantity and price change proportionally.\n",
    "\n",
    "---\n",
    "\n",
    "## 🎯 Project Goal\n",
    "\n",
    "> **Build a data-driven app that calculates and visualizes price elasticity of demand using real or synthetic data.**\n",
    "\n",
    "Users will:\n",
    "- Upload or select a dataset containing `price` and `quantity`.\n",
    "- Calculate elasticity across price intervals.\n",
    "- Visualize demand curves and highlight elasticity zones.\n",
    "- Experiment with \"what-if\" scenarios (e.g., simulate a 10% price change).\n",
    "\n",
    "---\n",
    "\n",
    "## 🔎 Data Sources\n",
    "\n",
    "### Real-World Datasets\n",
    "- [Kaggle Retail Datasets](https://www.kaggle.com/datasets)\n",
    "- [EIA Electricity Price/Demand](https://www.eia.gov/opendata/)\n",
    "- [OECD Economic Data](https://data.oecd.org/price.htm)\n",
    "- [Statista](https://www.statista.com/) (manual entry if needed)\n",
    "\n",
    "### Synthetic Data (Simulated)\n",
    "```python\n",
    "import numpy as np\n",
    "import pandas as pd\n",
    "\n",
    "price = np.linspace(5, 50, 10)\n",
    "quantity = 1000 * (price ** -1.3)  # Inversely proportional demand\n",
    "df = pd.DataFrame({'price': price, 'quantity': quantity})\n",
    "\n",
    "```\n"
   ],
   "id": "6bdfe05c917a61a2"
  },
  {
   "metadata": {},
   "cell_type": "code",
   "outputs": [],
   "execution_count": null,
   "source": "",
   "id": "16c0fa5a8ca66a74"
  }
 ],
 "metadata": {
  "kernelspec": {
   "display_name": "Python 3",
   "language": "python",
   "name": "python3"
  },
  "language_info": {
   "codemirror_mode": {
    "name": "ipython",
    "version": 2
   },
   "file_extension": ".py",
   "mimetype": "text/x-python",
   "name": "python",
   "nbconvert_exporter": "python",
   "pygments_lexer": "ipython2",
   "version": "2.7.6"
  }
 },
 "nbformat": 4,
 "nbformat_minor": 5
}
