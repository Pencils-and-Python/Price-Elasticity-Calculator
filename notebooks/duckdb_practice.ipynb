{
 "cells": [
  {
   "cell_type": "code",
   "id": "initial_id",
   "metadata": {
    "collapsed": true,
    "ExecuteTime": {
     "end_time": "2025-05-04T10:55:02.313502Z",
     "start_time": "2025-05-04T10:55:02.307642Z"
    }
   },
   "source": [
    "import duckdb\n",
    "import pandas as pd\n",
    "# Now use pandas/scikit-learn for modeling\n",
    "from sklearn.linear_model import LinearRegression\n",
    "import numpy as np"
   ],
   "outputs": [],
   "execution_count": 8
  },
  {
   "metadata": {
    "ExecuteTime": {
     "end_time": "2025-05-04T10:55:51.615382Z",
     "start_time": "2025-05-04T10:55:51.589590Z"
    }
   },
   "cell_type": "code",
   "source": [
    "# Connect to (or create) a DuckDB file\n",
    "conn = duckdb.connect('../db/processed/rossmann.duckdb')\n",
    "\n"
   ],
   "id": "87f894bc2d50345e",
   "outputs": [],
   "execution_count": 10
  },
  {
   "metadata": {
    "ExecuteTime": {
     "end_time": "2025-05-04T10:55:56.200915Z",
     "start_time": "2025-05-04T10:55:56.159442Z"
    }
   },
   "cell_type": "code",
   "source": [
    "# Option 1: SQL queries directly in DuckDB\n",
    "# Perform calculations using SQL\n",
    "result_df = conn.execute('''\n",
    "                         SELECT Store,\n",
    "                                AVG(Sales)    as avg_sales,\n",
    "                                SUM(Sales)    as total_sales,\n",
    "                                COUNT(*)      as days_open,\n",
    "                                MIN(Sales)    as min_sales,\n",
    "                                MAX(Sales)    as max_sales,\n",
    "                                STDDEV(Sales) as sales_std\n",
    "                         FROM rossmann_sales\n",
    "                         WHERE Open = 1\n",
    "                         GROUP BY Store\n",
    "                         ORDER BY total_sales DESC\n",
    "                         ''').fetchdf()\n",
    "\n",
    "# Display the results\n",
    "print(result_df.head())\n",
    "\n"
   ],
   "id": "f03e934362f1eefb",
   "outputs": [
    {
     "name": "stdout",
     "output_type": "stream",
     "text": [
      "   Store     avg_sales  total_sales  days_open  min_sales  max_sales  \\\n",
      "0    262  20426.218954   18751269.0        918      13210      37376   \n",
      "1    817  21757.483418   17057867.0        784       6052      38025   \n",
      "2    562  17958.629630   16486022.0        918      11024      28680   \n",
      "3   1114  20666.562500   16202585.0        784       8880      35697   \n",
      "4    251  19123.068036   14896870.0        779       8373      35350   \n",
      "\n",
      "     sales_std  \n",
      "0  4253.285380  \n",
      "1  4674.803920  \n",
      "2  2898.286359  \n",
      "3  3452.938601  \n",
      "4  3547.641612  \n"
     ]
    }
   ],
   "execution_count": 11
  },
  {
   "metadata": {
    "ExecuteTime": {
     "end_time": "2025-05-04T10:57:23.626721Z",
     "start_time": "2025-05-04T10:57:23.296539Z"
    }
   },
   "cell_type": "code",
   "source": [
    "# Option 2: Load data into Pandas first, then calculate\n",
    "# Fetch the data you need from DuckDB\n",
    "sales_data = conn.execute('''\n",
    "                          SELECT *\n",
    "                          FROM rossmann_sales\n",
    "                          WHERE Open = 1\n",
    "                          ''').fetchdf()\n",
    "\n",
    "\n",
    "\n",
    "\n",
    "# Example with simple features\n",
    "X = sales_data[['Promo', 'DayOfWeek', 'SchoolHoliday']]\n",
    "y = sales_data['Sales']\n",
    "\n",
    "# Train a simple model\n",
    "model = LinearRegression()\n",
    "model.fit(X, y)\n",
    "print(f\"Coefficients: {model.coef_}\")\n",
    "print(f\"Intercept: {model.intercept_}\")\n",
    "\n",
    "\n"
   ],
   "id": "41c8ed34fd4e42c",
   "outputs": [
    {
     "name": "stdout",
     "output_type": "stream",
     "text": [
      "Coefficients: [2158.53530848 -137.49911265  138.3081866 ]\n",
      "Intercept: 6447.435725763866\n"
     ]
    }
   ],
   "execution_count": 12
  },
  {
   "metadata": {
    "ExecuteTime": {
     "end_time": "2025-05-04T10:57:36.350472Z",
     "start_time": "2025-05-04T10:57:36.322909Z"
    }
   },
   "cell_type": "code",
   "source": [
    "# Option 3: Use DuckDB's data registration to work with pandas DataFrames\n",
    "\n",
    "feature_df = pd.DataFrame({\n",
    "    'feature1': np.random.rand(100),\n",
    "    'feature2': np.random.rand(100)\n",
    "})\n",
    "\n",
    "# Register the DataFrame with DuckDB\n",
    "conn.register('features', feature_df)\n",
    "\n",
    "# Now you can use this DataFrame in SQL queries\n",
    "result = conn.execute('''\n",
    "                      SELECT AVG(feature1) as avg_f1, MAX(feature2) as max_f2\n",
    "                      FROM features\n",
    "                      ''').fetchdf()\n",
    "\n",
    "print(result)\n",
    "\n",
    "# Don't forget to close the connection when done\n",
    "conn.close()"
   ],
   "id": "f67ee2139cf603c",
   "outputs": [
    {
     "name": "stdout",
     "output_type": "stream",
     "text": [
      "     avg_f1    max_f2\n",
      "0  0.450337  0.994549\n"
     ]
    }
   ],
   "execution_count": 13
  }
 ],
 "metadata": {
  "kernelspec": {
   "display_name": "Python 3",
   "language": "python",
   "name": "python3"
  },
  "language_info": {
   "codemirror_mode": {
    "name": "ipython",
    "version": 2
   },
   "file_extension": ".py",
   "mimetype": "text/x-python",
   "name": "python",
   "nbconvert_exporter": "python",
   "pygments_lexer": "ipython2",
   "version": "2.7.6"
  }
 },
 "nbformat": 4,
 "nbformat_minor": 5
}
