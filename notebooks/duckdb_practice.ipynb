{
 "cells": [
  {
   "cell_type": "code",
   "id": "initial_id",
   "metadata": {
    "collapsed": true,
    "ExecuteTime": {
     "end_time": "2025-05-04T08:35:25.619813Z",
     "start_time": "2025-05-04T08:35:25.587478Z"
    }
   },
   "source": "import duckdb",
   "outputs": [],
   "execution_count": 1
  },
  {
   "metadata": {},
   "cell_type": "code",
   "outputs": [],
   "execution_count": null,
   "source": [
    "# Connect to (or create) a DuckDB file\n",
    "conn = duckdb.connect('../data/raw.duckdb')\n",
    "\n",
    "# Save your clean DataFrame as a DuckDB table\n",
    "conn.execute(\"CREATE TABLE IF NOT EXISTS elasticity AS SELECT * FROM train_df2\")"
   ],
   "id": "87f894bc2d50345e"
  },
  {
   "metadata": {},
   "cell_type": "code",
   "outputs": [],
   "execution_count": null,
   "source": "df = conn.execute(\"SELECT * FROM elasticity\").fetchdf()\n",
   "id": "f03e934362f1eefb"
  }
 ],
 "metadata": {
  "kernelspec": {
   "display_name": "Python 3",
   "language": "python",
   "name": "python3"
  },
  "language_info": {
   "codemirror_mode": {
    "name": "ipython",
    "version": 2
   },
   "file_extension": ".py",
   "mimetype": "text/x-python",
   "name": "python",
   "nbconvert_exporter": "python",
   "pygments_lexer": "ipython2",
   "version": "2.7.6"
  }
 },
 "nbformat": 4,
 "nbformat_minor": 5
}
