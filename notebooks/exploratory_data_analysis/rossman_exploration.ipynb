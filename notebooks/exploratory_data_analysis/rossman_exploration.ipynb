{
 "cells": [
  {
   "metadata": {
    "ExecuteTime": {
     "end_time": "2025-04-18T01:48:07.934385Z",
     "start_time": "2025-04-18T01:48:06.928183Z"
    }
   },
   "cell_type": "code",
   "source": [
    "# Ensure fresh imports\n",
    "%load_ext autoreload\n",
    "%autoreload 2\n",
    "\n",
    "import sys\n",
    "from pathlib import Path\n",
    "\n",
    "# Add project root to sys.path\n",
    "sys.path.append(str(Path.cwd().parents[1]))\n",
    "\n",
    "from src.data.load_data import load_raw_data\n",
    "\n",
    "train_df, store_df = load_raw_data()\n",
    "\n"
   ],
   "id": "2a366c3b907ec6d7",
   "outputs": [
    {
     "name": "stdout",
     "output_type": "stream",
     "text": [
      "The autoreload extension is already loaded. To reload it, use:\n",
      "  %reload_ext autoreload\n"
     ]
    },
    {
     "name": "stderr",
     "output_type": "stream",
     "text": [
      "<string>:8: DtypeWarning: Columns (7) have mixed types. Specify dtype option on import or set low_memory=False.\n"
     ]
    },
    {
     "name": "stdout",
     "output_type": "stream",
     "text": [
      "Data loaded from: /home/brice-nelson/Documents/computerScience/medium_posts/pencils_and_python/elasticity_risk_exposure/data/raw\n"
     ]
    }
   ],
   "execution_count": 5
  },
  {
   "cell_type": "code",
   "id": "initial_id",
   "metadata": {
    "collapsed": true,
    "ExecuteTime": {
     "end_time": "2025-04-18T01:55:01.359621Z",
     "start_time": "2025-04-18T01:54:59.299980Z"
    }
   },
   "source": [
    "# Quick sanity checks\n",
    "print(f\"train_df info: \\n\",train_df.info())\n",
    "print(f\"train_df describe: \\n\",train_df.describe())\n",
    "print(f\"train_df isnull sum: \\n\",train_df.isnull().sum())\n",
    "\n",
    "# Column 7 investigation (mixed types)\n",
    "train_df.iloc[:, 7].value_counts(dropna=False)\n",
    "\n",
    "# Unique holiday flags\n",
    "train_df[\"StateHoliday\"].value_counts()\n",
    "\n",
    "# Date range\n",
    "print(train_df[\"Date\"].min(), train_df[\"Date\"].max())\n",
    "\n",
    "# Sales distribution\n",
    "train_df[\"Sales\"].plot.hist(bins=50)\n"
   ],
   "outputs": [
    {
     "name": "stdout",
     "output_type": "stream",
     "text": [
      "<class 'pandas.core.frame.DataFrame'>\n",
      "RangeIndex: 1017209 entries, 0 to 1017208\n",
      "Data columns (total 9 columns):\n",
      " #   Column         Non-Null Count    Dtype         \n",
      "---  ------         --------------    -----         \n",
      " 0   Store          1017209 non-null  int64         \n",
      " 1   DayOfWeek      1017209 non-null  int64         \n",
      " 2   Date           1017209 non-null  datetime64[ns]\n",
      " 3   Sales          1017209 non-null  int64         \n",
      " 4   Customers      1017209 non-null  int64         \n",
      " 5   Open           1017209 non-null  int64         \n",
      " 6   Promo          1017209 non-null  int64         \n",
      " 7   StateHoliday   1017209 non-null  object        \n",
      " 8   SchoolHoliday  1017209 non-null  int64         \n",
      "dtypes: datetime64[ns](1), int64(7), object(1)\n",
      "memory usage: 69.8+ MB\n",
      "train_df info: \n",
      " None\n",
      "train_df describe: \n",
      "               Store     DayOfWeek                           Date  \\\n",
      "count  1.017209e+06  1.017209e+06                        1017209   \n",
      "mean   5.584297e+02  3.998341e+00  2014-04-11 01:30:42.846061824   \n",
      "min    1.000000e+00  1.000000e+00            2013-01-01 00:00:00   \n",
      "25%    2.800000e+02  2.000000e+00            2013-08-17 00:00:00   \n",
      "50%    5.580000e+02  4.000000e+00            2014-04-02 00:00:00   \n",
      "75%    8.380000e+02  6.000000e+00            2014-12-12 00:00:00   \n",
      "max    1.115000e+03  7.000000e+00            2015-07-31 00:00:00   \n",
      "std    3.219087e+02  1.997391e+00                            NaN   \n",
      "\n",
      "              Sales     Customers          Open         Promo  SchoolHoliday  \n",
      "count  1.017209e+06  1.017209e+06  1.017209e+06  1.017209e+06   1.017209e+06  \n",
      "mean   5.773819e+03  6.331459e+02  8.301067e-01  3.815145e-01   1.786467e-01  \n",
      "min    0.000000e+00  0.000000e+00  0.000000e+00  0.000000e+00   0.000000e+00  \n",
      "25%    3.727000e+03  4.050000e+02  1.000000e+00  0.000000e+00   0.000000e+00  \n",
      "50%    5.744000e+03  6.090000e+02  1.000000e+00  0.000000e+00   0.000000e+00  \n",
      "75%    7.856000e+03  8.370000e+02  1.000000e+00  1.000000e+00   0.000000e+00  \n",
      "max    4.155100e+04  7.388000e+03  1.000000e+00  1.000000e+00   1.000000e+00  \n",
      "std    3.849926e+03  4.644117e+02  3.755392e-01  4.857586e-01   3.830564e-01  \n",
      "train_df isnull sum: \n",
      " Store            0\n",
      "DayOfWeek        0\n",
      "Date             0\n",
      "Sales            0\n",
      "Customers        0\n",
      "Open             0\n",
      "Promo            0\n",
      "StateHoliday     0\n",
      "SchoolHoliday    0\n",
      "dtype: int64\n",
      "2013-01-01 00:00:00 2015-07-31 00:00:00\n"
     ]
    },
    {
     "data": {
      "text/plain": [
       "<Axes: ylabel='Frequency'>"
      ]
     },
     "execution_count": 6,
     "metadata": {},
     "output_type": "execute_result"
    },
    {
     "data": {
      "text/plain": [
       "<Figure size 640x480 with 1 Axes>"
      ],
      "image/png": "[encoded data removed]"
     },
     "metadata": {},
     "output_type": "display_data"
    }
   ],
   "execution_count": 6
  },
  {
   "metadata": {
    "ExecuteTime": {
     "end_time": "2025-04-18T07:46:52.272481Z",
     "start_time": "2025-04-18T07:46:51.956022Z"
    }
   },
   "cell_type": "code",
   "source": [
    "# Detailed exploration of the StateHoliday column to understand mixed types\n",
    "print(\"StateHoliday column exploration:\")\n",
    "print(f\"Unique values and their counts:\\n{train_df['StateHoliday'].value_counts(dropna=False)}\\n\")\n",
    "print(f\"Data types in the column:\\n{train_df['StateHoliday'].apply(type).value_counts()}\\n\")\n",
    "print(\"Preview of distinct values with their types:\")\n",
    "print(train_df['StateHoliday'].drop_duplicates().apply(lambda x: (x, type(x))).tolist())"
   ],
   "id": "5eefb6bef7759dfc",
   "outputs": [
    {
     "name": "stdout",
     "output_type": "stream",
     "text": [
      "StateHoliday column exploration:\n",
      "Unique values and their counts:\n",
      "StateHoliday\n",
      "0    855087\n",
      "0    131072\n",
      "a     20260\n",
      "b      6690\n",
      "c      4100\n",
      "Name: count, dtype: int64\n",
      "\n",
      "Data types in the column:\n",
      "StateHoliday\n",
      "<class 'str'>    886137\n",
      "<class 'int'>    131072\n",
      "Name: count, dtype: int64\n",
      "\n",
      "Preview of distinct values with their types:\n",
      "[('0', <class 'str'>), ('a', <class 'str'>), ('b', <class 'str'>), ('c', <class 'str'>), (0, <class 'int'>)]\n"
     ]
    }
   ],
   "execution_count": 11
  },
  {
   "metadata": {},
   "cell_type": "code",
   "outputs": [],
   "execution_count": null,
   "source": [
    "# Investigate StateHoliday column for mixed types and inconsistencies\n",
    "print(\"StateHoliday Column Investigation:\")\n",
    "\n",
    "# Count unique values and their occurrences\n",
    "print(\"Value counts (including NaN):\")\n",
    "print(train_df['StateHoliday'].value_counts(dropna=False))\n",
    "\n",
    "# Check for unique data types in the column\n",
    "print(\"\\nData types in StateHoliday column:\")\n",
    "print(train_df['StateHoliday'].map(type).value_counts())\n",
    "\n",
    "# Check the unique values along with their types\n",
    "print(\"\\nUnique values with data types:\")\n",
    "print(train_df['StateHoliday'].drop_duplicates().apply(lambda x: (x, type(x))).tolist())\n",
    "\n",
    "# Check if any values are empty strings or unexpected\n",
    "print(\"\\nCheck for empty strings or unexpected values:\")\n",
    "print(train_df['StateHoliday'].unique())"
   ],
   "id": "97a8dfed1645e042"
  },
  {
   "metadata": {
    "ExecuteTime": {
     "end_time": "2025-04-18T06:39:45.475147Z",
     "start_time": "2025-04-18T06:39:45.327784Z"
    }
   },
   "cell_type": "code",
   "source": [
    "# Shows all the distinct values in the StateHoliday column and their counts.\n",
    "# You might find values like '0', 'a', 'b', 'c', etc.—these usually indicate different holiday types, but you need to normalize them (e.g., '0' vs 0 vs 'None')\n",
    "train_df[\"StateHoliday\"].value_counts()\n"
   ],
   "id": "4e2630aec99f3294",
   "outputs": [
    {
     "data": {
      "text/plain": [
       "StateHoliday\n",
       "0    855087\n",
       "0    131072\n",
       "a     20260\n",
       "b      6690\n",
       "c      4100\n",
       "Name: count, dtype: int64"
      ]
     },
     "execution_count": 8,
     "metadata": {},
     "output_type": "execute_result"
    }
   ],
   "execution_count": 8
  },
  {
   "metadata": {
    "ExecuteTime": {
     "end_time": "2025-04-18T06:57:47.701113Z",
     "start_time": "2025-04-18T06:57:47.654329Z"
    }
   },
   "cell_type": "code",
   "source": [
    "# returns earliest and latest dates in dataset\n",
    "\"\"\"Why it's useful:\n",
    "Helps define your time range (good for time series)\n",
    "\n",
    "Useful when slicing for training/testing splits or plotting\"\"\"\n",
    "print(train_df[\"Date\"].min(), train_df[\"Date\"].max())\n"
   ],
   "id": "4390a235c142180f",
   "outputs": [
    {
     "name": "stdout",
     "output_type": "stream",
     "text": [
      "2013-01-01 00:00:00 2015-07-31 00:00:00\n"
     ]
    }
   ],
   "execution_count": 9
  },
  {
   "metadata": {
    "ExecuteTime": {
     "end_time": "2025-04-18T07:05:58.199534Z",
     "start_time": "2025-04-18T07:05:57.520022Z"
    }
   },
   "cell_type": "code",
   "source": [
    "\"\"\"What it does:\n",
    "Plots a histogram of the Sales column, split into 50 bins (groups).\n",
    "\n",
    "🔍 Why it's useful:\n",
    "See how sales are distributed (bell curve? skewed? lots of zeros?)\n",
    "\n",
    "Spot outliers visually\"\"\"\n",
    "\n",
    "train_df[\"Sales\"].plot.hist(bins=50)\n"
   ],
   "id": "ee7d0897f88cdd",
   "outputs": [
    {
     "data": {
      "text/plain": [
       "<Axes: ylabel='Frequency'>"
      ]
     },
     "execution_count": 10,
     "metadata": {},
     "output_type": "execute_result"
    },
    {
     "data": {
      "text/plain": [
       "<Figure size 640x480 with 1 Axes>"
      ],
      "image/png": "[encoded data removed]"
     },
     "metadata": {},
     "output_type": "display_data"
    }
   ],
   "execution_count": 10
  }
 ],
 "metadata": {
  "kernelspec": {
   "display_name": "Python 3",
   "language": "python",
   "name": "python3"
  },
  "language_info": {
   "codemirror_mode": {
    "name": "ipython",
    "version": 2
   },
   "file_extension": ".py",
   "mimetype": "text/x-python",
   "name": "python",
   "nbconvert_exporter": "python",
   "pygments_lexer": "ipython2",
   "version": "2.7.6"
  }
 },
 "nbformat": 4,
 "nbformat_minor": 5
}
